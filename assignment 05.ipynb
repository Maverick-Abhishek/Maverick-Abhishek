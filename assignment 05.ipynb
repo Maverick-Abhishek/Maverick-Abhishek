{
 "cells": [
  {
   "cell_type": "markdown",
   "id": "4258e448",
   "metadata": {},
   "source": [
    "# Scrape the details of most viewed videos on YouTube from Wikipedia.\n",
    "Url = https://en.wikipedia.org/wiki/List_of_most-viewed_YouTube_videos\n",
    "You need to find following details:\n",
    "A) Rank\n",
    "B) Name\n",
    "C) Artist\n",
    "D) Upload date\n",
    "E) Views"
   ]
  },
  {
   "cell_type": "code",
   "execution_count": null,
   "id": "9a620abe",
   "metadata": {},
   "outputs": [],
   "source": [
    "from selenium import webdriver \n",
    "import pandas as pd \n",
    "from selenium.webdriver.common.by import By \n",
    "from selenium.webdriver.support.ui import WebDriverWait \n",
    "from selenium.webdriver.support import expected_conditions as EC"
   ]
  },
  {
   "cell_type": "code",
   "execution_count": null,
   "id": "bb8402f9",
   "metadata": {},
   "outputs": [],
   "source": [
    "driver = webdriver.Chrome() \n",
    "driver.get(\"https://en.wikipedia.org/wiki/List_of_most-viewed_YouTube_videos\")"
   ]
  },
  {
   "cell_type": "code",
   "execution_count": null,
   "id": "759b74a2",
   "metadata": {},
   "outputs": [],
   "source": [
    "user_data = driver.//*[@id=\"mw-content-text\"]/div[1]/table[2]\n",
    "links = []\n",
    "for i in user_data:\n",
    "            links.append(i.get_attribute('href'))\n",
    "\n",
    " print(len(links))"
   ]
  },
  {
   "cell_type": "code",
   "execution_count": null,
   "id": "d80b1f5e",
   "metadata": {},
   "outputs": [],
   "source": [
    "df = pd.DataFrame(columns = ['link', 'title', 'description', 'category'])"
   ]
  },
  {
   "cell_type": "code",
   "execution_count": null,
   "id": "595f3abf",
   "metadata": {},
   "outputs": [],
   "source": [
    "wait = WebDriverWait(driver, 10)\n",
    "v_category = \"CATEGORY_NAME\"\n",
    "for x in links:\n",
    "            driver.get(x)\n",
    "            v_id = x.strip('https://en.wikipedia.org/wiki/List_of_most-viewed_YouTube_videos')\n",
    "            v_title = wait.until(EC.presence_of_element_located(\n",
    "                           (By.CSS_SELECTOR,\"h1.title yt-formatted-string\"))).text\n",
    "            v_description =  wait.until(EC.presence_of_element_located(\n",
    "                                         (By.CSS_SELECTOR,\"div#description \n",
    "                                          yt-formatted-string\"))).text\n",
    "            df.loc[len(df)] = [v_id, v_title, v_description, v_category]"
   ]
  },
  {
   "cell_type": "code",
   "execution_count": 14,
   "id": "cf2b5e8d",
   "metadata": {},
   "outputs": [
    {
     "ename": "NameError",
     "evalue": "name 'df_travel' is not defined",
     "output_type": "error",
     "traceback": [
      "\u001b[1;31m---------------------------------------------------------------------------\u001b[0m",
      "\u001b[1;31mNameError\u001b[0m                                 Traceback (most recent call last)",
      "\u001b[1;32mC:\\Users\\WIN7~1\\AppData\\Local\\Temp/ipykernel_3720/665500449.py\u001b[0m in \u001b[0;36m<module>\u001b[1;34m\u001b[0m\n\u001b[1;32m----> 1\u001b[1;33m \u001b[0mframes\u001b[0m \u001b[1;33m=\u001b[0m \u001b[1;33m[\u001b[0m\u001b[0mdf_travel\u001b[0m\u001b[1;33m,\u001b[0m \u001b[0mdf_science\u001b[0m\u001b[1;33m,\u001b[0m \u001b[0mdf_food\u001b[0m\u001b[1;33m,\u001b[0m \u001b[0mdf_manufacturing\u001b[0m\u001b[1;33m,\u001b[0m \u001b[0mdf_history\u001b[0m\u001b[1;33m,\u001b[0m \u001b[0mdf_artndance\u001b[0m\u001b[1;33m]\u001b[0m\u001b[1;33m\u001b[0m\u001b[1;33m\u001b[0m\u001b[0m\n\u001b[0m\u001b[0;32m      2\u001b[0m df_copy = pd.concat(frames, axis=0, join='outer', join_axes=None, ignore_index=True,\n\u001b[0;32m      3\u001b[0m                             keys=None, levels=None, names=None, verify_integrity=False, copy=True)\n",
      "\u001b[1;31mNameError\u001b[0m: name 'df_travel' is not defined"
     ]
    }
   ],
   "source": [
    "frames = [df_travel, df_science, df_food, df_manufacturing, df_history, df_artndance]\n",
    "df_copy = pd.concat(frames, axis=0, join='outer', join_axes=None, ignore_index=True,\n",
    "                            keys=None, levels=None, names=None, verify_integrity=False, copy=True)"
   ]
  },
  {
   "cell_type": "code",
   "execution_count": null,
   "id": "51725d8d",
   "metadata": {},
   "outputs": [],
   "source": []
  }
 ],
 "metadata": {
  "kernelspec": {
   "display_name": "Python 3 (ipykernel)",
   "language": "python",
   "name": "python3"
  },
  "language_info": {
   "codemirror_mode": {
    "name": "ipython",
    "version": 3
   },
   "file_extension": ".py",
   "mimetype": "text/x-python",
   "name": "python",
   "nbconvert_exporter": "python",
   "pygments_lexer": "ipython3",
   "version": "3.9.7"
  }
 },
 "nbformat": 4,
 "nbformat_minor": 5
}
