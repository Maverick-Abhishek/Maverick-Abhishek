{
 "cells": [
  {
   "cell_type": "markdown",
   "metadata": {},
   "source": [
    "# \"SPAM SMS DETECTOR\""
   ]
  },
  {
   "cell_type": "code",
   "execution_count": null,
   "metadata": {
    "_kg_hide-input": true,
    "execution": {
     "iopub.execute_input": "2021-05-10T23:12:56.298273Z",
     "iopub.status.busy": "2021-05-10T23:12:56.297562Z",
     "iopub.status.idle": "2021-05-10T23:13:07.568347Z",
     "shell.execute_reply": "2021-05-10T23:13:07.568871Z"
    },
    "papermill": {
     "duration": 11.365619,
     "end_time": "2021-05-10T23:13:07.569105",
     "exception": false,
     "start_time": "2021-05-10T23:12:56.203486",
     "status": "completed"
    },
    "tags": []
   },
   "outputs": [],
   "source": [
    "import re\n",
    "import string\n",
    "import numpy as np \n",
    "import random\n",
    "import pandas as pd \n",
    "import matplotlib.pyplot as plt\n",
    "import seaborn as sns\n",
    "%matplotlib inline\n",
    "from plotly import graph_objs as go\n",
    "import plotly.express as px\n",
    "import plotly.figure_factory as ff\n",
    "from collections import Counter\n",
    "\n",
    "from PIL import Image\n",
    "from wordcloud import WordCloud, STOPWORDS, ImageColorGenerator\n",
    "\n",
    "\n",
    "import nltk\n",
    "from nltk.corpus import stopwords\n",
    "from nltk.tokenize import word_tokenize\n",
    "\n",
    "from tqdm import tqdm\n",
    "import os\n",
    "import nltk\n",
    "import spacy\n",
    "import random\n",
    "from spacy.util import compounding\n",
    "from spacy.util import minibatch\n",
    "\n",
    "from collections import defaultdict\n",
    "from collections import Counter\n",
    "\n",
    "import keras\n",
    "from keras.models import Sequential\n",
    "from keras.initializers import Constant\n",
    "from keras.layers import (LSTM, \n",
    "                          Embedding, \n",
    "                          BatchNormalization,\n",
    "                          Dense, \n",
    "                          TimeDistributed, \n",
    "                          Dropout, \n",
    "                          Bidirectional,\n",
    "                          Flatten, \n",
    "                          GlobalMaxPool1D)\n",
    "from keras.preprocessing.text import Tokenizer\n",
    "from keras.preprocessing.sequence import pad_sequences\n",
    "from keras.layers.embeddings import Embedding\n",
    "from keras.callbacks import ModelCheckpoint, ReduceLROnPlateau\n",
    "from keras.optimizers import Adam\n",
    "\n",
    "from sklearn.metrics import (\n",
    "    precision_score, \n",
    "    recall_score, \n",
    "    f1_score, \n",
    "    classification_report,\n",
    "    accuracy_score\n",
    ")"
   ]
  },
  {
   "cell_type": "code",
   "execution_count": null,
   "metadata": {
    "_kg_hide-input": true,
    "execution": {
     "iopub.execute_input": "2021-05-10T23:13:08.412529Z",
     "iopub.status.busy": "2021-05-10T23:13:08.411469Z",
     "iopub.status.idle": "2021-05-10T23:13:08.422392Z",
     "shell.execute_reply": "2021-05-10T23:13:08.423175Z"
    },
    "papermill": {
     "duration": 0.099252,
     "end_time": "2021-05-10T23:13:08.423433",
     "exception": false,
     "start_time": "2021-05-10T23:13:08.324181",
     "status": "completed"
    },
    "tags": []
   },
   "outputs": [],
   "source": [
    "# Defining all our palette colours.\n",
    "primary_blue = \"#496595\"\n",
    "primary_blue2 = \"#85a1c1\"\n",
    "primary_blue3 = \"#3f4d63\"\n",
    "primary_grey = \"#c6ccd8\"\n",
    "primary_black = \"#202022\"\n",
    "primary_bgcolor = \"#f4f0ea\"\n",
    "\n",
    "primary_green = px.colors.qualitative.Plotly[2]"
   ]
  },
  {
   "cell_type": "code",
   "execution_count": null,
   "metadata": {
    "execution": {
     "iopub.execute_input": "2021-05-10T23:13:08.604894Z",
     "iopub.status.busy": "2021-05-10T23:13:08.603768Z",
     "iopub.status.idle": "2021-05-10T23:13:08.702126Z",
     "shell.execute_reply": "2021-05-10T23:13:08.702708Z"
    },
    "papermill": {
     "duration": 0.194637,
     "end_time": "2021-05-10T23:13:08.702927",
     "exception": false,
     "start_time": "2021-05-10T23:13:08.508290",
     "status": "completed"
    },
    "tags": []
   },
   "outputs": [],
   "source": [
    "df = pd.read_csv(\"C:\\\\Users\\\\win 7\\\\Desktop\\\\Datascience\\\\Spam Project\\\\Spam-Project\\\\Spam Project\\\\spam_1.csv\",encoding=\"Windows-1252\")\n",
    "\n",
    "df = df.dropna(how=\"any\", axis=1)\n",
    "df.columns = ['target', 'message']\n",
    "\n",
    "df.head()"
   ]
  },
  {
   "cell_type": "code",
   "execution_count": null,
   "metadata": {
    "execution": {
     "iopub.execute_input": "2021-05-10T23:13:08.882585Z",
     "iopub.status.busy": "2021-05-10T23:13:08.881853Z",
     "iopub.status.idle": "2021-05-10T23:13:08.907135Z",
     "shell.execute_reply": "2021-05-10T23:13:08.906371Z"
    },
    "papermill": {
     "duration": 0.118963,
     "end_time": "2021-05-10T23:13:08.907308",
     "exception": false,
     "start_time": "2021-05-10T23:13:08.788345",
     "status": "completed"
    },
    "tags": []
   },
   "outputs": [],
   "source": [
    "df['message_len'] = df['message'].apply(lambda x: len(x.split(' ')))\n",
    "df.head()"
   ]
  },
  {
   "cell_type": "code",
   "execution_count": null,
   "metadata": {
    "execution": {
     "iopub.execute_input": "2021-05-10T23:13:09.123142Z",
     "iopub.status.busy": "2021-05-10T23:13:09.122339Z",
     "iopub.status.idle": "2021-05-10T23:13:09.126827Z",
     "shell.execute_reply": "2021-05-10T23:13:09.126109Z"
    },
    "papermill": {
     "duration": 0.123883,
     "end_time": "2021-05-10T23:13:09.127003",
     "exception": false,
     "start_time": "2021-05-10T23:13:09.003120",
     "status": "completed"
    },
    "tags": []
   },
   "outputs": [],
   "source": [
    "max(df['message_len'])"
   ]
  },
  {
   "cell_type": "markdown",
   "metadata": {
    "papermill": {
     "duration": 0.088953,
     "end_time": "2021-05-10T23:13:09.300967",
     "exception": false,
     "start_time": "2021-05-10T23:13:09.212014",
     "status": "completed"
    },
    "tags": []
   },
   "source": [
    "<a id='2'></a>\n",
    "# <p style=\"background-color:skyblue; font-family:newtimeroman; font-size:150%; text-align:center; border-radius: 15px 50px;\">2. EDA 📊</p>\n",
    "\n",
    "Now we are going to take a look about the target distribution and the messages length."
   ]
  },
  {
   "cell_type": "code",
   "execution_count": null,
   "metadata": {
    "execution": {
     "iopub.execute_input": "2021-05-10T23:13:09.650819Z",
     "iopub.status.busy": "2021-05-10T23:13:09.649731Z",
     "iopub.status.idle": "2021-05-10T23:13:09.664613Z",
     "shell.execute_reply": "2021-05-10T23:13:09.663996Z"
    },
    "papermill": {
     "duration": 0.104611,
     "end_time": "2021-05-10T23:13:09.664794",
     "exception": false,
     "start_time": "2021-05-10T23:13:09.560183",
     "status": "completed"
    },
    "tags": []
   },
   "outputs": [],
   "source": [
    "balance_counts = df.groupby('target')['target'].agg('count').values\n",
    "balance_counts"
   ]
  },
  {
   "cell_type": "code",
   "execution_count": null,
   "metadata": {
    "_kg_hide-input": true,
    "execution": {
     "iopub.execute_input": "2021-05-10T23:13:09.839434Z",
     "iopub.status.busy": "2021-05-10T23:13:09.838366Z",
     "iopub.status.idle": "2021-05-10T23:13:09.969077Z",
     "shell.execute_reply": "2021-05-10T23:13:09.968466Z"
    },
    "papermill": {
     "duration": 0.219879,
     "end_time": "2021-05-10T23:13:09.969225",
     "exception": false,
     "start_time": "2021-05-10T23:13:09.749346",
     "status": "completed"
    },
    "tags": []
   },
   "outputs": [],
   "source": [
    "fig = go.Figure()\n",
    "fig.add_trace(go.Bar(\n",
    "    x=['ham'],\n",
    "    y=[balance_counts[0]],\n",
    "    name='ham',\n",
    "    text=[balance_counts[0]],\n",
    "    textposition='auto',\n",
    "    marker_color=primary_blue\n",
    "))\n",
    "fig.add_trace(go.Bar(\n",
    "    x=['spam'],\n",
    "    y=[balance_counts[1]],\n",
    "    name='spam',\n",
    "    text=[balance_counts[1]],\n",
    "    textposition='auto',\n",
    "    marker_color=primary_grey\n",
    "))\n",
    "fig.update_layout(\n",
    "    title='<span style=\"font-size:32px; font-family:Times New Roman\">Dataset distribution by target</span>'\n",
    ")\n",
    "fig.show()"
   ]
  },
  {
   "cell_type": "markdown",
   "metadata": {
    "papermill": {
     "duration": 0.08641,
     "end_time": "2021-05-10T23:13:10.148680",
     "exception": false,
     "start_time": "2021-05-10T23:13:10.062270",
     "status": "completed"
    },
    "tags": []
   },
   "source": [
    "As we can see, the classes are imbalanced, so we can consider using some kind of resampling. We will study later. Anyway, it doesn't seem to be necessary."
   ]
  },
  {
   "cell_type": "code",
   "execution_count": null,
   "metadata": {
    "_kg_hide-input": true,
    "execution": {
     "iopub.execute_input": "2021-05-10T23:13:10.336931Z",
     "iopub.status.busy": "2021-05-10T23:13:10.332857Z",
     "iopub.status.idle": "2021-05-10T23:13:10.396277Z",
     "shell.execute_reply": "2021-05-10T23:13:10.394997Z"
    },
    "papermill": {
     "duration": 0.158153,
     "end_time": "2021-05-10T23:13:10.396448",
     "exception": false,
     "start_time": "2021-05-10T23:13:10.238295",
     "status": "completed"
    },
    "tags": []
   },
   "outputs": [],
   "source": [
    "ham_df = df[df['target'] == 'ham']['message_len'].value_counts().sort_index()\n",
    "spam_df = df[df['target'] == 'spam']['message_len'].value_counts().sort_index()\n",
    "\n",
    "fig = go.Figure()\n",
    "fig.add_trace(go.Scatter(\n",
    "    x=ham_df.index,\n",
    "    y=ham_df.values,\n",
    "    name='ham',\n",
    "    fill='tozeroy',\n",
    "    marker_color=primary_blue,\n",
    "))\n",
    "fig.add_trace(go.Scatter(\n",
    "    x=spam_df.index,\n",
    "    y=spam_df.values,\n",
    "    name='spam',\n",
    "    fill='tozeroy',\n",
    "    marker_color=primary_grey,\n",
    "))\n",
    "fig.update_layout(\n",
    "    title='<span style=\"font-size:32px; font-family:Times New Roman\">Data Roles in Different Fields</span>'\n",
    ")\n",
    "fig.update_xaxes(range=[0, 70])\n",
    "fig.show()"
   ]
  },
  {
   "cell_type": "markdown",
   "metadata": {
    "papermill": {
     "duration": 0.085151,
     "end_time": "2021-05-10T23:13:10.567366",
     "exception": false,
     "start_time": "2021-05-10T23:13:10.482215",
     "status": "completed"
    },
    "tags": []
   },
   "source": [
    "As we can see, the `ham` message length tend to be lower than `spam` message length."
   ]
  },
  {
   "cell_type": "markdown",
   "metadata": {
    "papermill": {
     "duration": 0.089078,
     "end_time": "2021-05-10T23:13:10.748482",
     "exception": false,
     "start_time": "2021-05-10T23:13:10.659404",
     "status": "completed"
    },
    "tags": []
   },
   "source": [
    "<a id='3'></a>\n",
    "# <p style=\"background-color:skyblue; font-family:newtimeroman; font-size:150%; text-align:center; border-radius: 15px 50px;\">3. Data Pre-processing 🛠</p>"
   ]
  },
  {
   "cell_type": "markdown",
   "metadata": {
    "papermill": {
     "duration": 0.086209,
     "end_time": "2021-05-10T23:13:10.922898",
     "exception": false,
     "start_time": "2021-05-10T23:13:10.836689",
     "status": "completed"
    },
    "tags": []
   },
   "source": [
    "<a id='3.1'></a>\n",
    "## <p style=\"background-color:skyblue; font-family:newtimeroman; font-size:140%; text-align:center; border-radius: 15px 50px;\">3.1 Cleaning the corpus 🛠</p>"
   ]
  },
  {
   "cell_type": "code",
   "execution_count": null,
   "metadata": {
    "execution": {
     "iopub.execute_input": "2021-05-10T23:13:11.109599Z",
     "iopub.status.busy": "2021-05-10T23:13:11.108621Z",
     "iopub.status.idle": "2021-05-10T23:13:11.112706Z",
     "shell.execute_reply": "2021-05-10T23:13:11.112112Z"
    },
    "papermill": {
     "duration": 0.10256,
     "end_time": "2021-05-10T23:13:11.112867",
     "exception": false,
     "start_time": "2021-05-10T23:13:11.010307",
     "status": "completed"
    },
    "tags": []
   },
   "outputs": [],
   "source": [
    "# Special thanks to https://www.kaggle.com/tanulsingh077 for this function\n",
    "def clean_text(text):\n",
    "    '''Make text lowercase, remove text in square brackets,remove links,remove punctuation\n",
    "    and remove words containing numbers.'''\n",
    "    text = str(text).lower()\n",
    "    text = re.sub('\\[.*?\\]', '', text)\n",
    "    text = re.sub('https?://\\S+|www\\.\\S+', '', text)\n",
    "    text = re.sub('<.*?>+', '', text)\n",
    "    text = re.sub('[%s]' % re.escape(string.punctuation), '', text)\n",
    "    text = re.sub('\\n', '', text)\n",
    "    text = re.sub('\\w*\\d\\w*', '', text)\n",
    "    return text"
   ]
  },
  {
   "cell_type": "code",
   "execution_count": null,
   "metadata": {
    "_kg_hide-output": false,
    "execution": {
     "iopub.execute_input": "2021-05-10T23:13:11.308317Z",
     "iopub.status.busy": "2021-05-10T23:13:11.303443Z",
     "iopub.status.idle": "2021-05-10T23:13:11.500968Z",
     "shell.execute_reply": "2021-05-10T23:13:11.500267Z"
    },
    "papermill": {
     "duration": 0.298199,
     "end_time": "2021-05-10T23:13:11.501149",
     "exception": false,
     "start_time": "2021-05-10T23:13:11.202950",
     "status": "completed"
    },
    "tags": []
   },
   "outputs": [],
   "source": [
    "df['message_clean'] = df['message'].apply(clean_text)\n",
    "df.head()"
   ]
  },
  {
   "attachments": {},
   "cell_type": "markdown",
   "metadata": {
    "papermill": {
     "duration": 0.084678,
     "end_time": "2021-05-10T23:13:11.677207",
     "exception": false,
     "start_time": "2021-05-10T23:13:11.592529",
     "status": "completed"
    },
    "tags": []
   },
   "source": [
    "### Stopwords"
   ]
  },
  {
   "cell_type": "code",
   "execution_count": null,
   "metadata": {
    "_kg_hide-output": true,
    "execution": {
     "iopub.execute_input": "2021-05-10T23:13:11.859175Z",
     "iopub.status.busy": "2021-05-10T23:13:11.858495Z",
     "iopub.status.idle": "2021-05-10T23:13:12.069434Z",
     "shell.execute_reply": "2021-05-10T23:13:12.068432Z"
    },
    "papermill": {
     "duration": 0.304652,
     "end_time": "2021-05-10T23:13:12.069655",
     "exception": false,
     "start_time": "2021-05-10T23:13:11.765003",
     "status": "completed"
    },
    "tags": []
   },
   "outputs": [],
   "source": [
    "stop_words = stopwords.words('english')\n",
    "more_stopwords = ['u', 'im', 'c']\n",
    "stop_words = stop_words + more_stopwords\n",
    "\n",
    "def remove_stopwords(text):\n",
    "    text = ' '.join(word for word in text.split(' ') if word not in stop_words)\n",
    "    return text\n",
    "    \n",
    "df['message_clean'] = df['message_clean'].apply(remove_stopwords)\n",
    "df.head()"
   ]
  },
  {
   "attachments": {},
   "cell_type": "markdown",
   "metadata": {
    "papermill": {
     "duration": 0.100944,
     "end_time": "2021-05-10T23:13:12.276493",
     "exception": false,
     "start_time": "2021-05-10T23:13:12.175549",
     "status": "completed"
    },
    "tags": []
   },
   "source": [
    "<a id='3.2'></a>\n",
    "## <p style=\"background-color:skyblue; font-family:newtimeroman; font-size:140%; text-align:center; border-radius: 15px 50px;\">3.2 Stemming 🛠</p>\n",
    "\n",
    "### Stemming/ Lematization\n",
    "\n",
    "### Stemming algorithms"
   ]
  },
  {
   "cell_type": "code",
   "execution_count": null,
   "metadata": {
    "execution": {
     "iopub.execute_input": "2021-05-10T23:13:12.478730Z",
     "iopub.status.busy": "2021-05-10T23:13:12.477961Z",
     "iopub.status.idle": "2021-05-10T23:13:12.481764Z",
     "shell.execute_reply": "2021-05-10T23:13:12.480963Z"
    },
    "papermill": {
     "duration": 0.100894,
     "end_time": "2021-05-10T23:13:12.481919",
     "exception": false,
     "start_time": "2021-05-10T23:13:12.381025",
     "status": "completed"
    },
    "tags": []
   },
   "outputs": [],
   "source": [
    "stemmer = nltk.SnowballStemmer(\"english\")\n",
    "\n",
    "def stemm_text(text):\n",
    "    text = ' '.join(stemmer.stem(word) for word in text.split(' '))\n",
    "    return text"
   ]
  },
  {
   "cell_type": "code",
   "execution_count": null,
   "metadata": {
    "_kg_hide-output": true,
    "execution": {
     "iopub.execute_input": "2021-05-10T23:13:12.662331Z",
     "iopub.status.busy": "2021-05-10T23:13:12.661325Z",
     "iopub.status.idle": "2021-05-10T23:13:13.481462Z",
     "shell.execute_reply": "2021-05-10T23:13:13.482020Z"
    },
    "papermill": {
     "duration": 0.911617,
     "end_time": "2021-05-10T23:13:13.482227",
     "exception": false,
     "start_time": "2021-05-10T23:13:12.570610",
     "status": "completed"
    },
    "tags": []
   },
   "outputs": [],
   "source": [
    "df['message_clean'] = df['message_clean'].apply(stemm_text)\n",
    "df.head()"
   ]
  },
  {
   "cell_type": "markdown",
   "metadata": {
    "papermill": {
     "duration": 0.086753,
     "end_time": "2021-05-10T23:13:13.661406",
     "exception": false,
     "start_time": "2021-05-10T23:13:13.574653",
     "status": "completed"
    },
    "tags": []
   },
   "source": [
    "<a id='3.3'></a>\n",
    "## <p style=\"background-color:skyblue; font-family:newtimeroman; font-size:140%; text-align:center; border-radius: 15px 50px;\">3.3 All together 🛠</p>"
   ]
  },
  {
   "cell_type": "code",
   "execution_count": null,
   "metadata": {
    "execution": {
     "iopub.execute_input": "2021-05-10T23:13:13.841438Z",
     "iopub.status.busy": "2021-05-10T23:13:13.840361Z",
     "iopub.status.idle": "2021-05-10T23:13:13.848059Z",
     "shell.execute_reply": "2021-05-10T23:13:13.847513Z"
    },
    "papermill": {
     "duration": 0.099467,
     "end_time": "2021-05-10T23:13:13.848254",
     "exception": false,
     "start_time": "2021-05-10T23:13:13.748787",
     "status": "completed"
    },
    "tags": []
   },
   "outputs": [],
   "source": [
    "def preprocess_data(text):\n",
    "    # Clean puntuation, urls, and so on\n",
    "    text = clean_text(text)\n",
    "    # Remove stopwords\n",
    "    text = ' '.join(word for word in text.split(' ') if word not in stop_words)\n",
    "    # Stemm all the words in the sentence\n",
    "    text = ' '.join(stemmer.stem(word) for word in text.split(' '))\n",
    "    \n",
    "    return text"
   ]
  },
  {
   "cell_type": "code",
   "execution_count": null,
   "metadata": {
    "execution": {
     "iopub.execute_input": "2021-05-10T23:13:14.061769Z",
     "iopub.status.busy": "2021-05-10T23:13:14.056279Z",
     "iopub.status.idle": "2021-05-10T23:13:15.109167Z",
     "shell.execute_reply": "2021-05-10T23:13:15.108460Z"
    },
    "papermill": {
     "duration": 1.173885,
     "end_time": "2021-05-10T23:13:15.109320",
     "exception": false,
     "start_time": "2021-05-10T23:13:13.935435",
     "status": "completed"
    },
    "tags": []
   },
   "outputs": [],
   "source": [
    "df['message_clean'] = df['message_clean'].apply(preprocess_data)\n",
    "df.head()"
   ]
  },
  {
   "cell_type": "markdown",
   "metadata": {
    "papermill": {
     "duration": 0.086822,
     "end_time": "2021-05-10T23:13:15.284048",
     "exception": false,
     "start_time": "2021-05-10T23:13:15.197226",
     "status": "completed"
    },
    "tags": []
   },
   "source": [
    "<a id='3.4'></a>\n",
    "## <p style=\"background-color:skyblue; font-family:newtimeroman; font-size:140%; text-align:center; border-radius: 15px 50px;\">3.4 Target encoding 🛠</p>"
   ]
  },
  {
   "cell_type": "code",
   "execution_count": null,
   "metadata": {
    "_kg_hide-output": true,
    "execution": {
     "iopub.execute_input": "2021-05-10T23:13:15.465747Z",
     "iopub.status.busy": "2021-05-10T23:13:15.464736Z",
     "iopub.status.idle": "2021-05-10T23:13:15.481511Z",
     "shell.execute_reply": "2021-05-10T23:13:15.480914Z"
    },
    "papermill": {
     "duration": 0.107844,
     "end_time": "2021-05-10T23:13:15.481659",
     "exception": false,
     "start_time": "2021-05-10T23:13:15.373815",
     "status": "completed"
    },
    "tags": []
   },
   "outputs": [],
   "source": [
    "from sklearn.preprocessing import LabelEncoder\n",
    "\n",
    "le = LabelEncoder()\n",
    "le.fit(df['target'])\n",
    "\n",
    "df['target_encoded'] = le.transform(df['target'])\n",
    "df.head()"
   ]
  },
  {
   "cell_type": "markdown",
   "metadata": {
    "papermill": {
     "duration": 0.088273,
     "end_time": "2021-05-10T23:13:15.658085",
     "exception": false,
     "start_time": "2021-05-10T23:13:15.569812",
     "status": "completed"
    },
    "tags": []
   },
   "source": [
    "<a id='4'></a>\n",
    "# <p style=\"background-color:skyblue; font-family:newtimeroman; font-size:150%; text-align:center; border-radius: 15px 50px;\">4. Tokens visualization 📊</p>"
   ]
  },
  {
   "cell_type": "code",
   "execution_count": null,
   "metadata": {
    "_kg_hide-input": true,
    "execution": {
     "iopub.execute_input": "2021-05-10T23:13:15.846170Z",
     "iopub.status.busy": "2021-05-10T23:13:15.845447Z",
     "iopub.status.idle": "2021-05-10T23:13:17.171129Z",
     "shell.execute_reply": "2021-05-10T23:13:17.171647Z"
    },
    "papermill": {
     "duration": 1.423793,
     "end_time": "2021-05-10T23:13:17.171825",
     "exception": false,
     "start_time": "2021-05-10T23:13:15.748032",
     "status": "completed"
    },
    "tags": []
   },
   "outputs": [],
   "source": [
    "wc = WordCloud(\n",
    "    background_color='white', \n",
    "    max_words=200, \n",
    "    mask=twitter_mask,\n",
    ")\n",
    "wc.generate(' '.join(text for text in df.loc[df['target'] == 'ham', 'message_clean']))\n",
    "plt.figure(figsize=(18,10))\n",
    "plt.title('Top words for HAM messages', \n",
    "          fontdict={'size': 22,  'verticalalignment': 'bottom'})\n",
    "plt.imshow(wc)\n",
    "plt.axis(\"off\")\n",
    "plt.show()"
   ]
  },
  {
   "cell_type": "code",
   "execution_count": null,
   "metadata": {
    "_kg_hide-input": true,
    "execution": {
     "iopub.execute_input": "2021-05-10T23:13:17.363598Z",
     "iopub.status.busy": "2021-05-10T23:13:17.362874Z",
     "iopub.status.idle": "2021-05-10T23:13:18.310243Z",
     "shell.execute_reply": "2021-05-10T23:13:18.310763Z"
    },
    "papermill": {
     "duration": 1.044391,
     "end_time": "2021-05-10T23:13:18.310953",
     "exception": false,
     "start_time": "2021-05-10T23:13:17.266562",
     "status": "completed"
    },
    "tags": []
   },
   "outputs": [],
   "source": [
    "wc = WordCloud(\n",
    "    background_color='white', \n",
    "    max_words=200, \n",
    "    mask=twitter_mask,\n",
    ")\n",
    "wc.generate(' '.join(text for text in df.loc[df['target'] == 'spam', 'message_clean']))\n",
    "plt.figure(figsize=(18,10))\n",
    "plt.title('Top words for SPAM messages', \n",
    "          fontdict={'size': 22,  'verticalalignment': 'bottom'})\n",
    "plt.imshow(wc)\n",
    "plt.axis(\"off\")\n",
    "plt.show()"
   ]
  },
  {
   "cell_type": "markdown",
   "metadata": {
    "papermill": {
     "duration": 0.102908,
     "end_time": "2021-05-10T23:13:18.517179",
     "exception": false,
     "start_time": "2021-05-10T23:13:18.414271",
     "status": "completed"
    },
    "tags": []
   },
   "source": [
    "<a id='5'></a>\n",
    "# <p style=\"background-color:skyblue; font-family:newtimeroman; font-size:150%; text-align:center; border-radius: 15px 50px;\">5. Vectorization</p>"
   ]
  },
  {
   "attachments": {},
   "cell_type": "markdown",
   "metadata": {
    "papermill": {
     "duration": 0.102113,
     "end_time": "2021-05-10T23:13:18.724478",
     "exception": false,
     "start_time": "2021-05-10T23:13:18.622365",
     "status": "completed"
    },
    "tags": []
   },
   "source": [
    "**CountVectorizer**"
   ]
  },
  {
   "cell_type": "code",
   "execution_count": null,
   "metadata": {
    "execution": {
     "iopub.execute_input": "2021-05-10T23:13:18.932623Z",
     "iopub.status.busy": "2021-05-10T23:13:18.931941Z",
     "iopub.status.idle": "2021-05-10T23:13:18.938540Z",
     "shell.execute_reply": "2021-05-10T23:13:18.937849Z"
    },
    "papermill": {
     "duration": 0.11245,
     "end_time": "2021-05-10T23:13:18.938700",
     "exception": false,
     "start_time": "2021-05-10T23:13:18.826250",
     "status": "completed"
    },
    "tags": []
   },
   "outputs": [],
   "source": [
    "# how to define X and y (from the SMS data) for use with COUNTVECTORIZER\n",
    "x = df['message_clean']\n",
    "y = df['target_encoded']\n",
    "\n",
    "print(len(x), len(y))"
   ]
  },
  {
   "cell_type": "code",
   "execution_count": null,
   "metadata": {
    "execution": {
     "iopub.execute_input": "2021-05-10T23:13:19.156797Z",
     "iopub.status.busy": "2021-05-10T23:13:19.155782Z",
     "iopub.status.idle": "2021-05-10T23:13:19.159906Z",
     "shell.execute_reply": "2021-05-10T23:13:19.160549Z"
    },
    "papermill": {
     "duration": 0.117648,
     "end_time": "2021-05-10T23:13:19.160745",
     "exception": false,
     "start_time": "2021-05-10T23:13:19.043097",
     "status": "completed"
    },
    "tags": []
   },
   "outputs": [],
   "source": [
    "# Split into train and test sets\n",
    "from sklearn.model_selection import train_test_split\n",
    "\n",
    "x_train, x_test, y_train, y_test = train_test_split(x, y, random_state=42)\n",
    "print(len(x_train), len(y_train))\n",
    "print(len(x_test), len(y_test))"
   ]
  },
  {
   "cell_type": "code",
   "execution_count": null,
   "metadata": {
    "execution": {
     "iopub.execute_input": "2021-05-10T23:13:19.386034Z",
     "iopub.status.busy": "2021-05-10T23:13:19.380591Z",
     "iopub.status.idle": "2021-05-10T23:13:19.456508Z",
     "shell.execute_reply": "2021-05-10T23:13:19.455837Z"
    },
    "papermill": {
     "duration": 0.191492,
     "end_time": "2021-05-10T23:13:19.456654",
     "exception": false,
     "start_time": "2021-05-10T23:13:19.265162",
     "status": "completed"
    },
    "tags": []
   },
   "outputs": [],
   "source": [
    "from sklearn.feature_extraction.text import CountVectorizer\n",
    "\n",
    "# instantiate the vectorizer\n",
    "vect = CountVectorizer()\n",
    "vect.fit(x_train)"
   ]
  },
  {
   "cell_type": "code",
   "execution_count": null,
   "metadata": {
    "execution": {
     "iopub.execute_input": "2021-05-10T23:13:19.710141Z",
     "iopub.status.busy": "2021-05-10T23:13:19.704746Z",
     "iopub.status.idle": "2021-05-10T23:13:19.756163Z",
     "shell.execute_reply": "2021-05-10T23:13:19.755026Z"
    },
    "papermill": {
     "duration": 0.196515,
     "end_time": "2021-05-10T23:13:19.756333",
     "exception": false,
     "start_time": "2021-05-10T23:13:19.559818",
     "status": "completed"
    },
    "tags": []
   },
   "outputs": [],
   "source": [
    "# Use the trained to create a document-term matrix from train and test sets\n",
    "x_train_dtm = vect.transform(x_train)\n",
    "x_test_dtm = vect.transform(x_test)"
   ]
  },
  {
   "cell_type": "markdown",
   "metadata": {
    "papermill": {
     "duration": 0.108193,
     "end_time": "2021-05-10T23:13:19.968436",
     "exception": false,
     "start_time": "2021-05-10T23:13:19.860243",
     "status": "completed"
    },
    "tags": []
   },
   "source": [
    "<a id='5.1'></a>\n",
    "## <p style=\"background-color:skyblue; font-family:newtimeroman; font-size:140%; text-align:center; border-radius: 15px 50px;\">5.1 Tunning CountVectorizer</p>"
   ]
  },
  {
   "cell_type": "code",
   "execution_count": null,
   "metadata": {
    "execution": {
     "iopub.execute_input": "2021-05-10T23:13:20.210361Z",
     "iopub.status.busy": "2021-05-10T23:13:20.209349Z",
     "iopub.status.idle": "2021-05-10T23:13:20.212783Z",
     "shell.execute_reply": "2021-05-10T23:13:20.213276Z"
    },
    "papermill": {
     "duration": 0.113991,
     "end_time": "2021-05-10T23:13:20.213460",
     "exception": false,
     "start_time": "2021-05-10T23:13:20.099469",
     "status": "completed"
    },
    "tags": []
   },
   "outputs": [],
   "source": [
    "vect_tunned = CountVectorizer(stop_words='english', ngram_range=(1,2), min_df=0.1, max_df=0.7, max_features=100)"
   ]
  },
  {
   "attachments": {},
   "cell_type": "markdown",
   "metadata": {
    "papermill": {
     "duration": 0.105001,
     "end_time": "2021-05-10T23:13:20.424427",
     "exception": false,
     "start_time": "2021-05-10T23:13:20.319426",
     "status": "completed"
    },
    "tags": []
   },
   "source": [
    "<a id='5.2'></a>\n",
    "# <p style=\"background-color:skyblue; font-family:newtimeroman; font-size:120%; text-align:center; border-radius: 15px 50px;\">5.2 TF-IDF</p>"
   ]
  },
  {
   "cell_type": "code",
   "execution_count": null,
   "metadata": {
    "_kg_hide-output": true,
    "execution": {
     "iopub.execute_input": "2021-05-10T23:13:20.640378Z",
     "iopub.status.busy": "2021-05-10T23:13:20.639586Z",
     "iopub.status.idle": "2021-05-10T23:13:20.653335Z",
     "shell.execute_reply": "2021-05-10T23:13:20.653886Z"
    },
    "papermill": {
     "duration": 0.124539,
     "end_time": "2021-05-10T23:13:20.654061",
     "exception": false,
     "start_time": "2021-05-10T23:13:20.529522",
     "status": "completed"
    },
    "tags": []
   },
   "outputs": [],
   "source": [
    "from sklearn.feature_extraction.text import TfidfTransformer\n",
    "\n",
    "tfidf_transformer = TfidfTransformer()\n",
    "\n",
    "tfidf_transformer.fit(x_train_dtm)\n",
    "x_train_tfidf = tfidf_transformer.transform(x_train_dtm)\n",
    "\n",
    "x_train_tfidf"
   ]
  },
  {
   "cell_type": "markdown",
   "metadata": {
    "papermill": {
     "duration": 0.106345,
     "end_time": "2021-05-10T23:13:20.863484",
     "exception": false,
     "start_time": "2021-05-10T23:13:20.757139",
     "status": "completed"
    },
    "tags": []
   },
   "source": [
    "<a id='5.3'></a>\n",
    "## <p style=\"background-color:skyblue; font-family:newtimeroman; font-size:140%; text-align:center; border-radius: 15px 50px;\">5.3 Word Embeddings: GloVe</p>"
   ]
  },
  {
   "cell_type": "code",
   "execution_count": null,
   "metadata": {
    "execution": {
     "iopub.execute_input": "2021-05-10T23:13:21.082578Z",
     "iopub.status.busy": "2021-05-10T23:13:21.081588Z",
     "iopub.status.idle": "2021-05-10T23:13:21.086216Z",
     "shell.execute_reply": "2021-05-10T23:13:21.086737Z"
    },
    "papermill": {
     "duration": 0.114793,
     "end_time": "2021-05-10T23:13:21.086912",
     "exception": false,
     "start_time": "2021-05-10T23:13:20.972119",
     "status": "completed"
    },
    "tags": []
   },
   "outputs": [],
   "source": [
    "texts = df['message_clean']\n",
    "target = df['target_encoded']"
   ]
  },
  {
   "attachments": {},
   "cell_type": "markdown",
   "metadata": {
    "papermill": {
     "duration": 0.107405,
     "end_time": "2021-05-10T23:13:21.299483",
     "exception": false,
     "start_time": "2021-05-10T23:13:21.192078",
     "status": "completed"
    },
    "tags": []
   },
   "source": [
    "**tokenization** "
   ]
  },
  {
   "cell_type": "code",
   "execution_count": null,
   "metadata": {
    "execution": {
     "iopub.execute_input": "2021-05-10T23:13:21.511773Z",
     "iopub.status.busy": "2021-05-10T23:13:21.510754Z",
     "iopub.status.idle": "2021-05-10T23:13:21.612884Z",
     "shell.execute_reply": "2021-05-10T23:13:21.613428Z"
    },
    "papermill": {
     "duration": 0.209079,
     "end_time": "2021-05-10T23:13:21.613638",
     "exception": false,
     "start_time": "2021-05-10T23:13:21.404559",
     "status": "completed"
    },
    "tags": []
   },
   "outputs": [],
   "source": [
    "# Calculate the length of our vocabulary\n",
    "word_tokenizer = Tokenizer()\n",
    "word_tokenizer.fit_on_texts(texts)\n",
    "\n",
    "vocab_length = len(word_tokenizer.word_index) + 1\n",
    "vocab_length"
   ]
  },
  {
   "cell_type": "markdown",
   "metadata": {
    "papermill": {
     "duration": 0.103509,
     "end_time": "2021-05-10T23:13:21.820947",
     "exception": false,
     "start_time": "2021-05-10T23:13:21.717438",
     "status": "completed"
    },
    "tags": []
   },
   "source": [
    "### Pad_sequences\n",
    "\n",
    "```python\n",
    "tf.keras.preprocessing.sequence.pad_sequences(\n",
    "    sequences, maxlen=None, dtype='int32', padding='pre',\n",
    "    truncating='pre', value=0.0\n",
    ")\n",
    "```\n",
    "\n",
    "This function transforms a list (of length num_samples) of sequences (lists of integers) into a 2D Numpy array of shape (num_samples, num_timesteps). num_timesteps is either the maxlen argument if provided, or the length of the longest sequence in the list.\n",
    "\n",
    "```python\n",
    ">>> sequence = [[1], [2, 3], [4, 5, 6]]\n",
    ">>> tf.keras.preprocessing.sequence.pad_sequences(sequence, padding='post')\n",
    "array([[1, 0, 0],\n",
    "       [2, 3, 0],\n",
    "       [4, 5, 6]], dtype=int32)\n",
    "```"
   ]
  },
  {
   "cell_type": "code",
   "execution_count": null,
   "metadata": {
    "_kg_hide-output": true,
    "execution": {
     "iopub.execute_input": "2021-05-10T23:13:22.034170Z",
     "iopub.status.busy": "2021-05-10T23:13:22.033428Z",
     "iopub.status.idle": "2021-05-10T23:13:23.002466Z",
     "shell.execute_reply": "2021-05-10T23:13:23.001869Z"
    },
    "papermill": {
     "duration": 1.077875,
     "end_time": "2021-05-10T23:13:23.002623",
     "exception": false,
     "start_time": "2021-05-10T23:13:21.924748",
     "status": "completed"
    },
    "tags": []
   },
   "outputs": [],
   "source": [
    "def embed(corpus): \n",
    "    return word_tokenizer.texts_to_sequences(corpus)\n",
    "\n",
    "longest_train = max(texts, key=lambda sentence: len(word_tokenize(sentence)))\n",
    "length_long_sentence = len(word_tokenize(longest_train))\n",
    "\n",
    "train_padded_sentences = pad_sequences(\n",
    "    embed(texts), \n",
    "    length_long_sentence, \n",
    "    padding='post'\n",
    ")\n",
    "\n",
    "train_padded_sentences"
   ]
  },
  {
   "cell_type": "markdown",
   "metadata": {
    "papermill": {
     "duration": 0.102254,
     "end_time": "2021-05-10T23:13:23.208779",
     "exception": false,
     "start_time": "2021-05-10T23:13:23.106525",
     "status": "completed"
    },
    "tags": []
   },
   "source": [
    "### GloVe"
   ]
  },
  {
   "cell_type": "code",
   "execution_count": null,
   "metadata": {
    "execution": {
     "iopub.execute_input": "2021-05-10T23:13:23.422188Z",
     "iopub.status.busy": "2021-05-10T23:13:23.421211Z",
     "iopub.status.idle": "2021-05-10T23:13:46.446280Z",
     "shell.execute_reply": "2021-05-10T23:13:46.447266Z"
    },
    "papermill": {
     "duration": 23.135811,
     "end_time": "2021-05-10T23:13:46.447518",
     "exception": false,
     "start_time": "2021-05-10T23:13:23.311707",
     "status": "completed"
    },
    "tags": []
   },
   "outputs": [],
   "source": [
    "embeddings_dictionary = dict()\n",
    "embedding_dim = 100\n",
    "\n",
    "# Load GloVe 100D embeddings\n",
    "with open('/kaggle/input/glove6b100dtxt/glove.6B.100d.txt') as fp:\n",
    "    for line in fp.readlines():\n",
    "        records = line.split()\n",
    "        word = records[0]\n",
    "        vector_dimensions = np.asarray(records[1:], dtype='float32')\n",
    "        embeddings_dictionary [word] = vector_dimensions\n",
    "\n",
    "# embeddings_dictionary"
   ]
  },
  {
   "cell_type": "code",
   "execution_count": null,
   "metadata": {
    "_kg_hide-output": true,
    "execution": {
     "iopub.execute_input": "2021-05-10T23:13:46.676166Z",
     "iopub.status.busy": "2021-05-10T23:13:46.672759Z",
     "iopub.status.idle": "2021-05-10T23:13:46.696674Z",
     "shell.execute_reply": "2021-05-10T23:13:46.695988Z"
    },
    "papermill": {
     "duration": 0.139265,
     "end_time": "2021-05-10T23:13:46.696820",
     "exception": false,
     "start_time": "2021-05-10T23:13:46.557555",
     "status": "completed"
    },
    "tags": []
   },
   "outputs": [],
   "source": [
    "# Now we will load embedding vectors of those words that appear in the\n",
    "# Glove dictionary. Others will be initialized to 0.\n",
    "\n",
    "embedding_matrix = np.zeros((vocab_length, embedding_dim))\n",
    "\n",
    "for word, index in word_tokenizer.word_index.items():\n",
    "    embedding_vector = embeddings_dictionary.get(word)\n",
    "    if embedding_vector is not None:\n",
    "        embedding_matrix[index] = embedding_vector\n",
    "        \n",
    "embedding_matrix"
   ]
  },
  {
   "cell_type": "markdown",
   "metadata": {
    "papermill": {
     "duration": 0.105278,
     "end_time": "2021-05-10T23:13:46.909102",
     "exception": false,
     "start_time": "2021-05-10T23:13:46.803824",
     "status": "completed"
    },
    "tags": []
   },
   "source": [
    "<a id='6'></a>\n",
    "# <p style=\"background-color:skyblue; font-family:newtimeroman; font-size:150%; text-align:center; border-radius: 15px 50px;\">6. Modeling</p>"
   ]
  },
  {
   "cell_type": "code",
   "execution_count": null,
   "metadata": {
    "_kg_hide-input": true,
    "execution": {
     "iopub.execute_input": "2021-05-10T23:13:47.140735Z",
     "iopub.status.busy": "2021-05-10T23:13:47.139925Z",
     "iopub.status.idle": "2021-05-10T23:13:47.143529Z",
     "shell.execute_reply": "2021-05-10T23:13:47.142922Z"
    },
    "papermill": {
     "duration": 0.124203,
     "end_time": "2021-05-10T23:13:47.143694",
     "exception": false,
     "start_time": "2021-05-10T23:13:47.019491",
     "status": "completed"
    },
    "tags": []
   },
   "outputs": [],
   "source": [
    "import plotly.figure_factory as ff\n",
    "\n",
    "x_axes = ['Ham', 'Spam']\n",
    "y_axes =  ['Spam', 'Ham']\n",
    "\n",
    "def conf_matrix(z, x=x_axes, y=y_axes):\n",
    "    \n",
    "    z = np.flip(z, 0)\n",
    "\n",
    "    # change each element of z to type string for annotations\n",
    "    z_text = [[str(y) for y in x] for x in z]\n",
    "\n",
    "    # set up figure \n",
    "    fig = ff.create_annotated_heatmap(z, x=x, y=y, annotation_text=z_text, colorscale='Viridis')\n",
    "\n",
    "    # add title\n",
    "    fig.update_layout(title_text='<b>Confusion matrix</b>',\n",
    "                      xaxis = dict(title='Predicted value'),\n",
    "                      yaxis = dict(title='Real value')\n",
    "                     )\n",
    "\n",
    "    # add colorbar\n",
    "    fig['data'][0]['showscale'] = True\n",
    "    \n",
    "    return fig"
   ]
  },
  {
   "cell_type": "code",
   "execution_count": null,
   "metadata": {
    "execution": {
     "iopub.execute_input": "2021-05-10T23:13:47.365105Z",
     "iopub.status.busy": "2021-05-10T23:13:47.364178Z",
     "iopub.status.idle": "2021-05-10T23:13:47.378345Z",
     "shell.execute_reply": "2021-05-10T23:13:47.377674Z"
    },
    "papermill": {
     "duration": 0.124241,
     "end_time": "2021-05-10T23:13:47.378494",
     "exception": false,
     "start_time": "2021-05-10T23:13:47.254253",
     "status": "completed"
    },
    "tags": []
   },
   "outputs": [],
   "source": [
    "# Create a Multinomial Naive Bayes model\n",
    "from sklearn.naive_bayes import MultinomialNB\n",
    "nb = MultinomialNB()\n",
    "\n",
    "# Train the model\n",
    "nb.fit(x_train_dtm, y_train)"
   ]
  },
  {
   "attachments": {},
   "cell_type": "markdown",
   "metadata": {
    "papermill": {
     "duration": 0.109174,
     "end_time": "2021-05-10T23:13:47.596273",
     "exception": false,
     "start_time": "2021-05-10T23:13:47.487099",
     "status": "completed"
    },
    "tags": []
   },
   "source": [
    "<a id='6.1'></a>\n",
    "## <p style=\"background-color:skyblue; font-family:newtimeroman; font-size:140%; text-align:center; border-radius: 15px 50px;\">6.1 Naive Bayes DTM</p>"
   ]
  },
  {
   "cell_type": "code",
   "execution_count": null,
   "metadata": {
    "execution": {
     "iopub.execute_input": "2021-05-10T23:13:47.820816Z",
     "iopub.status.busy": "2021-05-10T23:13:47.820045Z",
     "iopub.status.idle": "2021-05-10T23:13:47.827215Z",
     "shell.execute_reply": "2021-05-10T23:13:47.826566Z"
    },
    "papermill": {
     "duration": 0.119821,
     "end_time": "2021-05-10T23:13:47.827366",
     "exception": false,
     "start_time": "2021-05-10T23:13:47.707545",
     "status": "completed"
    },
    "tags": []
   },
   "outputs": [],
   "source": [
    "# Make class anf probability predictions\n",
    "y_pred_class = nb.predict(x_test_dtm)\n",
    "y_pred_prob = nb.predict_proba(x_test_dtm)[:, 1]"
   ]
  },
  {
   "cell_type": "code",
   "execution_count": null,
   "metadata": {
    "execution": {
     "iopub.execute_input": "2021-05-10T23:13:48.050747Z",
     "iopub.status.busy": "2021-05-10T23:13:48.050047Z",
     "iopub.status.idle": "2021-05-10T23:13:48.157140Z",
     "shell.execute_reply": "2021-05-10T23:13:48.156506Z"
    },
    "papermill": {
     "duration": 0.219705,
     "end_time": "2021-05-10T23:13:48.157300",
     "exception": false,
     "start_time": "2021-05-10T23:13:47.937595",
     "status": "completed"
    },
    "tags": []
   },
   "outputs": [],
   "source": [
    "# calculate accuracy of class predictions\n",
    "from sklearn import metrics\n",
    "print(metrics.accuracy_score(y_test, y_pred_class))\n",
    "\n",
    "conf_matrix(metrics.confusion_matrix(y_test, y_pred_class))"
   ]
  },
  {
   "cell_type": "code",
   "execution_count": null,
   "metadata": {
    "execution": {
     "iopub.execute_input": "2021-05-10T23:13:48.380531Z",
     "iopub.status.busy": "2021-05-10T23:13:48.379806Z",
     "iopub.status.idle": "2021-05-10T23:13:48.388340Z",
     "shell.execute_reply": "2021-05-10T23:13:48.388905Z"
    },
    "papermill": {
     "duration": 0.121872,
     "end_time": "2021-05-10T23:13:48.389107",
     "exception": false,
     "start_time": "2021-05-10T23:13:48.267235",
     "status": "completed"
    },
    "tags": []
   },
   "outputs": [],
   "source": [
    "# Calculate AUC\n",
    "metrics.roc_auc_score(y_test, y_pred_prob)"
   ]
  },
  {
   "cell_type": "markdown",
   "metadata": {
    "papermill": {
     "duration": 0.109575,
     "end_time": "2021-05-10T23:13:48.605832",
     "exception": false,
     "start_time": "2021-05-10T23:13:48.496257",
     "status": "completed"
    },
    "tags": []
   },
   "source": [
    "<a id='6.2'></a>\n",
    "## <p style=\"background-color:skyblue; font-family:newtimeroman; font-size:140%; text-align:center; border-radius: 15px 50px;\">6.2 Naive Bayes</p>"
   ]
  },
  {
   "cell_type": "code",
   "execution_count": null,
   "metadata": {
    "execution": {
     "iopub.execute_input": "2021-05-10T23:13:48.830287Z",
     "iopub.status.busy": "2021-05-10T23:13:48.829519Z",
     "iopub.status.idle": "2021-05-10T23:13:48.839016Z",
     "shell.execute_reply": "2021-05-10T23:13:48.838421Z"
    },
    "papermill": {
     "duration": 0.121508,
     "end_time": "2021-05-10T23:13:48.839219",
     "exception": false,
     "start_time": "2021-05-10T23:13:48.717711",
     "status": "completed"
    },
    "tags": []
   },
   "outputs": [],
   "source": [
    "from sklearn.feature_extraction.text import TfidfTransformer\n",
    "from sklearn.pipeline import Pipeline\n",
    "\n",
    "pipe = Pipeline([('bow', CountVectorizer()), \n",
    "                 ('tfid', TfidfTransformer()),  \n",
    "                 ('model', MultinomialNB())])"
   ]
  },
  {
   "cell_type": "code",
   "execution_count": null,
   "metadata": {
    "execution": {
     "iopub.execute_input": "2021-05-10T23:13:49.081994Z",
     "iopub.status.busy": "2021-05-10T23:13:49.077092Z",
     "iopub.status.idle": "2021-05-10T23:13:49.200335Z",
     "shell.execute_reply": "2021-05-10T23:13:49.199727Z"
    },
    "papermill": {
     "duration": 0.250924,
     "end_time": "2021-05-10T23:13:49.200506",
     "exception": false,
     "start_time": "2021-05-10T23:13:48.949582",
     "status": "completed"
    },
    "tags": []
   },
   "outputs": [],
   "source": [
    "# Fit the pipeline with the data\n",
    "pipe.fit(x_train, y_train)\n",
    "\n",
    "y_pred_class = pipe.predict(x_test)\n",
    "\n",
    "print(metrics.accuracy_score(y_test, y_pred_class))\n",
    "\n",
    "conf_matrix(metrics.confusion_matrix(y_test, y_pred_class))"
   ]
  },
  {
   "cell_type": "markdown",
   "metadata": {
    "papermill": {
     "duration": 0.113613,
     "end_time": "2021-05-10T23:13:49.427320",
     "exception": false,
     "start_time": "2021-05-10T23:13:49.313707",
     "status": "completed"
    },
    "tags": []
   },
   "source": [
    "<a id='6.3'></a>\n",
    "## <p style=\"background-color:skyblue; font-family:newtimeroman; font-size:140%; text-align:center; border-radius: 15px 50px;\">6.3 XGBoost</p>"
   ]
  },
  {
   "cell_type": "code",
   "execution_count": null,
   "metadata": {},
   "outputs": [],
   "source": [
    "!pip install xgboost"
   ]
  },
  {
   "cell_type": "code",
   "execution_count": null,
   "metadata": {
    "execution": {
     "iopub.execute_input": "2021-05-10T23:13:49.655139Z",
     "iopub.status.busy": "2021-05-10T23:13:49.654416Z",
     "iopub.status.idle": "2021-05-10T23:13:49.741955Z",
     "shell.execute_reply": "2021-05-10T23:13:49.741268Z"
    },
    "papermill": {
     "duration": 0.205694,
     "end_time": "2021-05-10T23:13:49.742140",
     "exception": false,
     "start_time": "2021-05-10T23:13:49.536446",
     "status": "completed"
    },
    "tags": []
   },
   "outputs": [],
   "source": [
    "import xgboost as xgb\n",
    "\n",
    "pipe = Pipeline([\n",
    "    ('bow', CountVectorizer()), \n",
    "    ('tfid', TfidfTransformer()),  \n",
    "    ('model', xgb.XGBClassifier(\n",
    "        learning_rate=0.1,\n",
    "        max_depth=7,\n",
    "        n_estimators=80,\n",
    "        use_label_encoder=False,\n",
    "        eval_metric='auc',\n",
    "        # colsample_bytree=0.8,\n",
    "        # subsample=0.7,\n",
    "        # min_child_weight=5,\n",
    "    ))\n",
    "])"
   ]
  },
  {
   "cell_type": "code",
   "execution_count": null,
   "metadata": {
    "execution": {
     "iopub.execute_input": "2021-05-10T23:13:49.989738Z",
     "iopub.status.busy": "2021-05-10T23:13:49.979189Z",
     "iopub.status.idle": "2021-05-10T23:13:50.989948Z",
     "shell.execute_reply": "2021-05-10T23:13:50.988571Z"
    },
    "papermill": {
     "duration": 1.136817,
     "end_time": "2021-05-10T23:13:50.990138",
     "exception": false,
     "start_time": "2021-05-10T23:13:49.853321",
     "status": "completed"
    },
    "tags": []
   },
   "outputs": [],
   "source": [
    "# Fit the pipeline with the data\n",
    "pipe.fit(x_train, y_train)\n",
    "\n",
    "y_pred_class = pipe.predict(x_test)\n",
    "y_pred_train = pipe.predict(x_train)\n",
    "\n",
    "print('Train: {}'.format(metrics.accuracy_score(y_train, y_pred_train)))\n",
    "print('Test: {}'.format(metrics.accuracy_score(y_test, y_pred_class)))\n",
    "\n",
    "conf_matrix(metrics.confusion_matrix(y_test, y_pred_class))"
   ]
  },
  {
   "cell_type": "markdown",
   "metadata": {
    "papermill": {
     "duration": 0.112902,
     "end_time": "2021-05-10T23:13:51.219043",
     "exception": false,
     "start_time": "2021-05-10T23:13:51.106141",
     "status": "completed"
    },
    "tags": []
   },
   "source": [
    "<a id='7'></a>\n",
    "# <p style=\"background-color:skyblue; font-family:newtimeroman; font-size:150%; text-align:center; border-radius: 15px 50px;\">7. LSTM</p>"
   ]
  },
  {
   "cell_type": "code",
   "execution_count": null,
   "metadata": {
    "execution": {
     "iopub.execute_input": "2021-05-10T23:13:51.456765Z",
     "iopub.status.busy": "2021-05-10T23:13:51.455762Z",
     "iopub.status.idle": "2021-05-10T23:13:51.461291Z",
     "shell.execute_reply": "2021-05-10T23:13:51.460708Z"
    },
    "papermill": {
     "duration": 0.125564,
     "end_time": "2021-05-10T23:13:51.461447",
     "exception": false,
     "start_time": "2021-05-10T23:13:51.335883",
     "status": "completed"
    },
    "tags": []
   },
   "outputs": [],
   "source": [
    "# Split data into train and test sets\n",
    "X_train, X_test, y_train, y_test = train_test_split(\n",
    "    train_padded_sentences, \n",
    "    target, \n",
    "    test_size=0.25\n",
    ")"
   ]
  },
  {
   "cell_type": "code",
   "execution_count": null,
   "metadata": {
    "execution": {
     "iopub.execute_input": "2021-05-10T23:13:51.694569Z",
     "iopub.status.busy": "2021-05-10T23:13:51.693856Z",
     "iopub.status.idle": "2021-05-10T23:13:52.366051Z",
     "shell.execute_reply": "2021-05-10T23:13:52.366619Z"
    },
    "papermill": {
     "duration": 0.794186,
     "end_time": "2021-05-10T23:13:52.366811",
     "exception": false,
     "start_time": "2021-05-10T23:13:51.572625",
     "status": "completed"
    },
    "tags": []
   },
   "outputs": [],
   "source": [
    "def glove_lstm():\n",
    "    model = Sequential()\n",
    "    \n",
    "    model.add(Embedding(\n",
    "        input_dim=embedding_matrix.shape[0], \n",
    "        output_dim=embedding_matrix.shape[1], \n",
    "        weights = [embedding_matrix], \n",
    "        input_length=length_long_sentence\n",
    "    ))\n",
    "    \n",
    "    model.add(Bidirectional(LSTM(\n",
    "        length_long_sentence, \n",
    "        return_sequences = True, \n",
    "        recurrent_dropout=0.2\n",
    "    )))\n",
    "    \n",
    "    model.add(GlobalMaxPool1D())\n",
    "    model.add(BatchNormalization())\n",
    "    model.add(Dropout(0.5))\n",
    "    model.add(Dense(length_long_sentence, activation = \"relu\"))\n",
    "    model.add(Dropout(0.5))\n",
    "    model.add(Dense(length_long_sentence, activation = \"relu\"))\n",
    "    model.add(Dropout(0.5))\n",
    "    model.add(Dense(1, activation = 'sigmoid'))\n",
    "    model.compile(optimizer='rmsprop', loss='binary_crossentropy', metrics=['accuracy'])\n",
    "    \n",
    "    return model\n",
    "\n",
    "model = glove_lstm()\n",
    "model.summary()"
   ]
  },
  {
   "cell_type": "code",
   "execution_count": null,
   "metadata": {
    "_kg_hide-output": true,
    "execution": {
     "iopub.execute_input": "2021-05-10T23:13:52.652796Z",
     "iopub.status.busy": "2021-05-10T23:13:52.650280Z",
     "iopub.status.idle": "2021-05-10T23:16:11.030006Z",
     "shell.execute_reply": "2021-05-10T23:16:11.030733Z"
    },
    "papermill": {
     "duration": 138.548739,
     "end_time": "2021-05-10T23:16:11.030945",
     "exception": false,
     "start_time": "2021-05-10T23:13:52.482206",
     "status": "completed"
    },
    "tags": []
   },
   "outputs": [],
   "source": [
    "# Load the model and train!!\n",
    "\n",
    "model = glove_lstm()\n",
    "\n",
    "checkpoint = ModelCheckpoint(\n",
    "    'model.h5', \n",
    "    monitor = 'val_loss', \n",
    "    verbose = 1, \n",
    "    save_best_only = True\n",
    ")\n",
    "reduce_lr = ReduceLROnPlateau(\n",
    "    monitor = 'val_loss', \n",
    "    factor = 0.2, \n",
    "    verbose = 1, \n",
    "    patience = 5,                        \n",
    "    min_lr = 0.001\n",
    ")\n",
    "history = model.fit(\n",
    "    X_train, \n",
    "    y_train, \n",
    "    epochs = 7,\n",
    "    batch_size = 32,\n",
    "    validation_data = (X_test, y_test),\n",
    "    verbose = 1,\n",
    "    callbacks = [reduce_lr, checkpoint]\n",
    ")"
   ]
  },
  {
   "cell_type": "markdown",
   "metadata": {
    "papermill": {
     "duration": 0.40817,
     "end_time": "2021-05-10T23:16:11.850900",
     "exception": false,
     "start_time": "2021-05-10T23:16:11.442730",
     "status": "completed"
    },
    "tags": []
   },
   "source": [
    "### Lets see the results"
   ]
  },
  {
   "cell_type": "code",
   "execution_count": null,
   "metadata": {
    "_kg_hide-input": true,
    "execution": {
     "iopub.execute_input": "2021-05-10T23:16:12.689440Z",
     "iopub.status.busy": "2021-05-10T23:16:12.688580Z",
     "iopub.status.idle": "2021-05-10T23:16:12.692650Z",
     "shell.execute_reply": "2021-05-10T23:16:12.691875Z"
    },
    "papermill": {
     "duration": 0.416983,
     "end_time": "2021-05-10T23:16:12.692819",
     "exception": false,
     "start_time": "2021-05-10T23:16:12.275836",
     "status": "completed"
    },
    "tags": []
   },
   "outputs": [],
   "source": [
    "def plot_learning_curves(history, arr):\n",
    "    fig, ax = plt.subplots(1, 2, figsize=(20, 5))\n",
    "    for idx in range(2):\n",
    "        ax[idx].plot(history.history[arr[idx][0]])\n",
    "        ax[idx].plot(history.history[arr[idx][1]])\n",
    "        ax[idx].legend([arr[idx][0], arr[idx][1]],fontsize=18)\n",
    "        ax[idx].set_xlabel('A ',fontsize=16)\n",
    "        ax[idx].set_ylabel('B',fontsize=16)\n",
    "        ax[idx].set_title(arr[idx][0] + ' X ' + arr[idx][1],fontsize=16)"
   ]
  },
  {
   "cell_type": "code",
   "execution_count": null,
   "metadata": {
    "execution": {
     "iopub.execute_input": "2021-05-10T23:16:13.535801Z",
     "iopub.status.busy": "2021-05-10T23:16:13.526319Z",
     "iopub.status.idle": "2021-05-10T23:16:13.892196Z",
     "shell.execute_reply": "2021-05-10T23:16:13.891389Z"
    },
    "papermill": {
     "duration": 0.797011,
     "end_time": "2021-05-10T23:16:13.892363",
     "exception": false,
     "start_time": "2021-05-10T23:16:13.095352",
     "status": "completed"
    },
    "tags": []
   },
   "outputs": [],
   "source": [
    "plot_learning_curves(history, [['loss', 'val_loss'],['accuracy', 'val_accuracy']])"
   ]
  },
  {
   "cell_type": "code",
   "execution_count": null,
   "metadata": {
    "execution": {
     "iopub.execute_input": "2021-05-10T23:16:14.714052Z",
     "iopub.status.busy": "2021-05-10T23:16:14.713279Z",
     "iopub.status.idle": "2021-05-10T23:16:16.211021Z",
     "shell.execute_reply": "2021-05-10T23:16:16.210359Z"
    },
    "papermill": {
     "duration": 1.91356,
     "end_time": "2021-05-10T23:16:16.211198",
     "exception": false,
     "start_time": "2021-05-10T23:16:14.297638",
     "status": "completed"
    },
    "tags": []
   },
   "outputs": [],
   "source": [
    "y_preds = (model.predict(X_test) > 0.5).astype(\"int32\")\n",
    "conf_matrix(metrics.confusion_matrix(y_test, y_preds))"
   ]
  },
  {
   "cell_type": "markdown",
   "metadata": {
    "papermill": {
     "duration": 0.409957,
     "end_time": "2021-05-10T23:16:17.034439",
     "exception": false,
     "start_time": "2021-05-10T23:16:16.624482",
     "status": "completed"
    },
    "tags": []
   },
   "source": [
    "<a id='8'></a>\n",
    "# <p style=\"background-color:skyblue; font-family:newtimeroman; font-size:150%; text-align:center; border-radius: 15px 50px;\">8. BERT</p>"
   ]
  },
  {
   "cell_type": "code",
   "execution_count": null,
   "metadata": {
    "_kg_hide-input": true,
    "_kg_hide-output": true,
    "execution": {
     "iopub.execute_input": "2021-05-10T23:16:17.839984Z",
     "iopub.status.busy": "2021-05-10T23:16:17.839323Z",
     "iopub.status.idle": "2021-05-10T23:16:26.625289Z",
     "shell.execute_reply": "2021-05-10T23:16:26.624664Z"
    },
    "papermill": {
     "duration": 9.188246,
     "end_time": "2021-05-10T23:16:26.625439",
     "exception": false,
     "start_time": "2021-05-10T23:16:17.437193",
     "status": "completed"
    },
    "tags": []
   },
   "outputs": [],
   "source": [
    "# install transformers\n",
    "!pip install transformers"
   ]
  },
  {
   "cell_type": "code",
   "execution_count": null,
   "metadata": {
    "execution": {
     "iopub.execute_input": "2021-05-10T23:16:27.469548Z",
     "iopub.status.busy": "2021-05-10T23:16:27.468844Z",
     "iopub.status.idle": "2021-05-10T23:16:31.362428Z",
     "shell.execute_reply": "2021-05-10T23:16:31.361710Z"
    },
    "papermill": {
     "duration": 4.302337,
     "end_time": "2021-05-10T23:16:31.362582",
     "exception": false,
     "start_time": "2021-05-10T23:16:27.060245",
     "status": "completed"
    },
    "tags": []
   },
   "outputs": [],
   "source": [
    "import tensorflow as tf\n",
    "from tensorflow.keras.layers import Dense, Input\n",
    "from tensorflow.keras.optimizers import Adam\n",
    "from tensorflow.keras.models import Model\n",
    "from tensorflow.keras.callbacks import ModelCheckpoint\n",
    "\n",
    "import transformers\n",
    "from tqdm.notebook import tqdm\n",
    "from tokenizers import BertWordPieceTokenizer"
   ]
  },
  {
   "cell_type": "code",
   "execution_count": null,
   "metadata": {
    "_kg_hide-input": true,
    "execution": {
     "iopub.execute_input": "2021-05-10T23:16:32.167899Z",
     "iopub.status.busy": "2021-05-10T23:16:32.167237Z",
     "iopub.status.idle": "2021-05-10T23:16:32.170091Z",
     "shell.execute_reply": "2021-05-10T23:16:32.170916Z"
    },
    "papermill": {
     "duration": 0.411001,
     "end_time": "2021-05-10T23:16:32.171224",
     "exception": false,
     "start_time": "2021-05-10T23:16:31.760223",
     "status": "completed"
    },
    "tags": []
   },
   "outputs": [],
   "source": [
    "try:\n",
    "    tpu = tf.distribute.cluster_resolver.TPUClusterResolver()\n",
    "    tf.config.experimental_connect_to_cluster(tpu)\n",
    "    tf.tpu.experimental.initialize_tpu_system(tpu)\n",
    "    strategy = tf.distribute.experimental.TPUStrategy(tpu)\n",
    "    \n",
    "except:\n",
    "    strategy = tf.distribute.get_strategy()\n",
    "    \n",
    "print('Number of replicas in sync: ', strategy.num_replicas_in_sync)"
   ]
  },
  {
   "cell_type": "code",
   "execution_count": null,
   "metadata": {
    "execution": {
     "iopub.execute_input": "2021-05-10T23:16:32.974053Z",
     "iopub.status.busy": "2021-05-10T23:16:32.973427Z",
     "iopub.status.idle": "2021-05-10T23:16:34.039847Z",
     "shell.execute_reply": "2021-05-10T23:16:34.039275Z"
    },
    "papermill": {
     "duration": 1.470195,
     "end_time": "2021-05-10T23:16:34.039990",
     "exception": false,
     "start_time": "2021-05-10T23:16:32.569795",
     "status": "completed"
    },
    "tags": []
   },
   "outputs": [],
   "source": [
    "from transformers import BertTokenizer\n",
    "tokenizer = BertTokenizer.from_pretrained('bert-large-uncased')\n",
    "\n",
    "def bert_encode(data, maximum_length) :\n",
    "    input_ids = []\n",
    "    attention_masks = []\n",
    "\n",
    "    for text in data:\n",
    "        encoded = tokenizer.encode_plus(\n",
    "            text, \n",
    "            add_special_tokens=True,\n",
    "            max_length=maximum_length,\n",
    "            pad_to_max_length=True,\n",
    "\n",
    "            return_attention_mask=True,\n",
    "        )\n",
    "        input_ids.append(encoded['input_ids'])\n",
    "        attention_masks.append(encoded['attention_mask'])\n",
    "        \n",
    "    return np.array(input_ids),np.array(attention_masks)"
   ]
  },
  {
   "cell_type": "code",
   "execution_count": null,
   "metadata": {
    "execution": {
     "iopub.execute_input": "2021-05-10T23:16:34.842676Z",
     "iopub.status.busy": "2021-05-10T23:16:34.841958Z",
     "iopub.status.idle": "2021-05-10T23:16:37.525233Z",
     "shell.execute_reply": "2021-05-10T23:16:37.524498Z"
    },
    "papermill": {
     "duration": 3.086685,
     "end_time": "2021-05-10T23:16:37.525398",
     "exception": false,
     "start_time": "2021-05-10T23:16:34.438713",
     "status": "completed"
    },
    "tags": []
   },
   "outputs": [],
   "source": [
    "texts = df['message_clean']\n",
    "target = df['target_encoded']\n",
    "\n",
    "train_input_ids, train_attention_masks = bert_encode(texts,60)"
   ]
  },
  {
   "cell_type": "code",
   "execution_count": null,
   "metadata": {
    "execution": {
     "iopub.execute_input": "2021-05-10T23:16:38.398921Z",
     "iopub.status.busy": "2021-05-10T23:16:38.398031Z",
     "iopub.status.idle": "2021-05-10T23:16:38.401875Z",
     "shell.execute_reply": "2021-05-10T23:16:38.401193Z"
    },
    "papermill": {
     "duration": 0.461362,
     "end_time": "2021-05-10T23:16:38.402029",
     "exception": false,
     "start_time": "2021-05-10T23:16:37.940667",
     "status": "completed"
    },
    "tags": []
   },
   "outputs": [],
   "source": [
    "import tensorflow as tf\n",
    "from tensorflow.keras.optimizers import Adam\n",
    "\n",
    "def create_model(bert_model):\n",
    "    \n",
    "    input_ids = tf.keras.Input(shape=(60,),dtype='int32')\n",
    "    attention_masks = tf.keras.Input(shape=(60,),dtype='int32')\n",
    "\n",
    "    output = bert_model([input_ids,attention_masks])\n",
    "    output = output[1]\n",
    "    output = tf.keras.layers.Dense(32,activation='relu')(output)\n",
    "    output = tf.keras.layers.Dropout(0.2)(output)\n",
    "    output = tf.keras.layers.Dense(1,activation='sigmoid')(output)\n",
    "    \n",
    "    model = tf.keras.models.Model(inputs = [input_ids,attention_masks],outputs = output)\n",
    "    model.compile(Adam(lr=1e-5), loss='binary_crossentropy', metrics=['accuracy'])\n",
    "    return model"
   ]
  },
  {
   "cell_type": "code",
   "execution_count": null,
   "metadata": {
    "execution": {
     "iopub.execute_input": "2021-05-10T23:16:39.244413Z",
     "iopub.status.busy": "2021-05-10T23:16:39.243349Z",
     "iopub.status.idle": "2021-05-10T23:17:13.633249Z",
     "shell.execute_reply": "2021-05-10T23:17:13.633804Z"
    },
    "papermill": {
     "duration": 34.813651,
     "end_time": "2021-05-10T23:17:13.634012",
     "exception": false,
     "start_time": "2021-05-10T23:16:38.820361",
     "status": "completed"
    },
    "tags": []
   },
   "outputs": [],
   "source": [
    "from transformers import TFBertModel\n",
    "bert_model = TFBertModel.from_pretrained('bert-base-uncased')"
   ]
  },
  {
   "cell_type": "code",
   "execution_count": null,
   "metadata": {
    "execution": {
     "iopub.execute_input": "2021-05-10T23:17:14.617999Z",
     "iopub.status.busy": "2021-05-10T23:17:14.612993Z",
     "iopub.status.idle": "2021-05-10T23:17:18.778861Z",
     "shell.execute_reply": "2021-05-10T23:17:18.777965Z"
    },
    "papermill": {
     "duration": 4.650394,
     "end_time": "2021-05-10T23:17:18.779142",
     "exception": false,
     "start_time": "2021-05-10T23:17:14.128748",
     "status": "completed"
    },
    "tags": []
   },
   "outputs": [],
   "source": [
    "model = create_model(bert_model)\n",
    "model.summary()"
   ]
  },
  {
   "cell_type": "code",
   "execution_count": null,
   "metadata": {
    "execution": {
     "iopub.execute_input": "2021-05-10T23:17:19.654927Z",
     "iopub.status.busy": "2021-05-10T23:17:19.654046Z",
     "iopub.status.idle": "2021-05-11T00:46:33.397583Z",
     "shell.execute_reply": "2021-05-11T00:46:33.398152Z"
    },
    "papermill": {
     "duration": 5354.152545,
     "end_time": "2021-05-11T00:46:33.398404",
     "exception": false,
     "start_time": "2021-05-10T23:17:19.245859",
     "status": "completed"
    },
    "tags": []
   },
   "outputs": [],
   "source": [
    "history = model.fit(\n",
    "    [train_input_ids, train_attention_masks],\n",
    "    target,\n",
    "    validation_split=0.2, \n",
    "    epochs=3,\n",
    "    batch_size=10\n",
    ")"
   ]
  },
  {
   "cell_type": "code",
   "execution_count": null,
   "metadata": {
    "execution": {
     "iopub.execute_input": "2021-05-11T00:46:35.079514Z",
     "iopub.status.busy": "2021-05-11T00:46:35.078602Z",
     "iopub.status.idle": "2021-05-11T00:46:35.466624Z",
     "shell.execute_reply": "2021-05-11T00:46:35.467200Z"
    },
    "papermill": {
     "duration": 1.257741,
     "end_time": "2021-05-11T00:46:35.467376",
     "exception": false,
     "start_time": "2021-05-11T00:46:34.209635",
     "status": "completed"
    },
    "tags": []
   },
   "outputs": [],
   "source": [
    "plot_learning_curves(history, [['loss', 'val_loss'],['accuracy', 'val_accuracy']])"
   ]
  },
  {
   "cell_type": "markdown",
   "metadata": {
    "papermill": {
     "duration": 0.884593,
     "end_time": "2021-05-11T00:46:37.172337",
     "exception": false,
     "start_time": "2021-05-11T00:46:36.287744",
     "status": "completed"
    },
    "tags": []
   },
   "source": [
    "<a id='9'></a>\n",
    "# <p style=\"background-color:skyblue; font-family:newtimeroman; font-size:150%; text-align:center; border-radius: 15px 50px;\">9. NLP: Disaster Tweets</p>"
   ]
  },
  {
   "cell_type": "code",
   "execution_count": null,
   "metadata": {
    "execution": {
     "iopub.execute_input": "2021-05-11T00:46:38.887455Z",
     "iopub.status.busy": "2021-05-11T00:46:38.883117Z",
     "iopub.status.idle": "2021-05-11T00:46:38.999597Z",
     "shell.execute_reply": "2021-05-11T00:46:39.000137Z"
    },
    "papermill": {
     "duration": 0.983444,
     "end_time": "2021-05-11T00:46:39.000466",
     "exception": false,
     "start_time": "2021-05-11T00:46:38.017022",
     "status": "completed"
    },
    "tags": []
   },
   "outputs": [],
   "source": [
    "df = pd.read_csv(\"C:\\\\Users\\\\win 7\\\\Desktop\\\\Datascience\\\\Spam Project\\\\Spam-Project\\\\Spam Project\\\\spam_1.csv\",encoding=\"Windows-1252\"\")\n",
    "test_df = pd.read_csv(\"C:\\\\Users\\\\win 7\\\\Desktop\\\\Datascience\\\\Spam Project\\\\Spam-Project\\\\Spam Project\\\\spam_1.csv\",encoding=\"Windows-1252\")\n",
    "\n",
    "df = df.dropna(how=\"any\", axis=1)\n",
    "df['text_len'] = df['text'].apply(lambda x: len(x.split(' ')))\n",
    "\n",
    "df.head()"
   ]
  },
  {
   "cell_type": "markdown",
   "metadata": {
    "papermill": {
     "duration": 0.860054,
     "end_time": "2021-05-11T00:46:40.775024",
     "exception": false,
     "start_time": "2021-05-11T00:46:39.914970",
     "status": "completed"
    },
    "tags": []
   },
   "source": [
    "<a id='9.1'></a>\n",
    "## <p style=\"background-color:skyblue; font-family:newtimeroman; font-size:140%; text-align:center; border-radius: 15px 50px;\">9.1 EDA</p>"
   ]
  },
  {
   "cell_type": "code",
   "execution_count": null,
   "metadata": {
    "execution": {
     "iopub.execute_input": "2021-05-11T00:46:42.478592Z",
     "iopub.status.busy": "2021-05-11T00:46:42.477545Z",
     "iopub.status.idle": "2021-05-11T00:46:42.493970Z",
     "shell.execute_reply": "2021-05-11T00:46:42.493257Z"
    },
    "papermill": {
     "duration": 0.87548,
     "end_time": "2021-05-11T00:46:42.494155",
     "exception": false,
     "start_time": "2021-05-11T00:46:41.618675",
     "status": "completed"
    },
    "tags": []
   },
   "outputs": [],
   "source": [
    "balance_counts = df.groupby('target')['target'].agg('count').values\n",
    "balance_counts"
   ]
  },
  {
   "cell_type": "code",
   "execution_count": null,
   "metadata": {
    "_kg_hide-input": true,
    "execution": {
     "iopub.execute_input": "2021-05-11T00:46:44.213575Z",
     "iopub.status.busy": "2021-05-11T00:46:44.212739Z",
     "iopub.status.idle": "2021-05-11T00:46:44.227307Z",
     "shell.execute_reply": "2021-05-11T00:46:44.227804Z"
    },
    "papermill": {
     "duration": 0.864185,
     "end_time": "2021-05-11T00:46:44.228021",
     "exception": false,
     "start_time": "2021-05-11T00:46:43.363836",
     "status": "completed"
    },
    "tags": []
   },
   "outputs": [],
   "source": [
    "fig = go.Figure()\n",
    "fig.add_trace(go.Bar(\n",
    "    x=['Fake'],\n",
    "    y=[balance_counts[0]],\n",
    "    name='Fake',\n",
    "    text=[balance_counts[0]],\n",
    "    textposition='auto',\n",
    "    marker_color=primary_blue\n",
    "))\n",
    "fig.add_trace(go.Bar(\n",
    "    x=['Real disaster'],\n",
    "    y=[balance_counts[1]],\n",
    "    name='Real disaster',\n",
    "    text=[balance_counts[1]],\n",
    "    textposition='auto',\n",
    "    marker_color=primary_grey\n",
    "))\n",
    "fig.update_layout(\n",
    "    title='<span style=\"font-size:32px; font-family:Times New Roman\">Dataset distribution by target</span>'\n",
    ")\n",
    "fig.show()"
   ]
  },
  {
   "cell_type": "code",
   "execution_count": null,
   "metadata": {
    "_kg_hide-input": true,
    "execution": {
     "iopub.execute_input": "2021-05-11T00:46:45.951758Z",
     "iopub.status.busy": "2021-05-11T00:46:45.950889Z",
     "iopub.status.idle": "2021-05-11T00:46:45.983925Z",
     "shell.execute_reply": "2021-05-11T00:46:45.984533Z"
    },
    "papermill": {
     "duration": 0.89017,
     "end_time": "2021-05-11T00:46:45.984742",
     "exception": false,
     "start_time": "2021-05-11T00:46:45.094572",
     "status": "completed"
    },
    "tags": []
   },
   "outputs": [],
   "source": [
    "disaster_df = df[df['target'] == 1]['text_len'].value_counts().sort_index()\n",
    "fake_df = df[df['target'] == 0]['text_len'].value_counts().sort_index()\n",
    "\n",
    "fig = go.Figure()\n",
    "fig.add_trace(go.Scatter(\n",
    "    x=disaster_df.index,\n",
    "    y=disaster_df.values,\n",
    "    name='Real disaster',\n",
    "    fill='tozeroy',\n",
    "    marker_color=primary_blue,\n",
    "))\n",
    "fig.add_trace(go.Scatter(\n",
    "    x=fake_df.index,\n",
    "    y=fake_df.values,\n",
    "    name='Fake',\n",
    "    fill='tozeroy',\n",
    "    marker_color=primary_grey,\n",
    "))\n",
    "fig.update_layout(\n",
    "    title='<span style=\"font-size:32px; font-family:Times New Roman\">Data Roles in Different Fields</span>'\n",
    ")\n",
    "fig.show()"
   ]
  },
  {
   "cell_type": "markdown",
   "metadata": {
    "papermill": {
     "duration": 0.840402,
     "end_time": "2021-05-11T00:46:47.690630",
     "exception": false,
     "start_time": "2021-05-11T00:46:46.850228",
     "status": "completed"
    },
    "tags": []
   },
   "source": [
    "<a id='9.2'></a>\n",
    "## <p style=\"background-color:skyblue; font-family:newtimeroman; font-size:140%; text-align:center; border-radius: 15px 50px;\">9.2 Data preprocessing</p>"
   ]
  },
  {
   "cell_type": "code",
   "execution_count": null,
   "metadata": {
    "_kg_hide-input": true,
    "execution": {
     "iopub.execute_input": "2021-05-11T00:46:49.380775Z",
     "iopub.status.busy": "2021-05-11T00:46:49.379932Z",
     "iopub.status.idle": "2021-05-11T00:46:49.383298Z",
     "shell.execute_reply": "2021-05-11T00:46:49.382656Z"
    },
    "papermill": {
     "duration": 0.850311,
     "end_time": "2021-05-11T00:46:49.383446",
     "exception": false,
     "start_time": "2021-05-11T00:46:48.533135",
     "status": "completed"
    },
    "tags": []
   },
   "outputs": [],
   "source": [
    "def remove_url(text):\n",
    "    url = re.compile(r'https?://\\S+|www\\.\\S+')\n",
    "    return url.sub(r'', text)\n",
    "\n",
    "\n",
    "def remove_emoji(text):\n",
    "    emoji_pattern = re.compile(\n",
    "        '['\n",
    "        u'\\U0001F600-\\U0001F64F'  # emoticons\n",
    "        u'\\U0001F300-\\U0001F5FF'  # symbols & pictographs\n",
    "        u'\\U0001F680-\\U0001F6FF'  # transport & map symbols\n",
    "        u'\\U0001F1E0-\\U0001F1FF'  # flags (iOS)\n",
    "        u'\\U00002702-\\U000027B0'\n",
    "        u'\\U000024C2-\\U0001F251'\n",
    "        ']+',\n",
    "        flags=re.UNICODE)\n",
    "    return emoji_pattern.sub(r'', text)\n",
    "\n",
    "\n",
    "def remove_html(text):\n",
    "    html = re.compile(r'<.*?>|&([a-z0-9]+|#[0-9]{1,6}|#x[0-9a-f]{1,6});')\n",
    "    return re.sub(html, '', text)\n",
    "\n",
    "def clean_text(text):\n",
    "    '''Make text lowercase, remove text in square brackets,remove links,remove punctuation\n",
    "    and remove words containing numbers.'''\n",
    "    text = str(text).lower()\n",
    "    text = re.sub('\\[.*?\\]', '', text)\n",
    "    text = re.sub(\n",
    "        'http[s]?://(?:[a-zA-Z]|[0-9]|[$-_@.&+]|[!*\\(\\),]|(?:%[0-9a-fA-F][0-9a-fA-F]))+', \n",
    "        '', \n",
    "        text\n",
    "    )\n",
    "    text = re.sub('https?://\\S+|www\\.\\S+', '', text)\n",
    "    text = re.sub('<.*?>+', '', text)\n",
    "    text = re.sub('[%s]' % re.escape(string.punctuation), '', text)\n",
    "    text = re.sub('\\n', '', text)\n",
    "    text = re.sub('\\w*\\d\\w*', '', text)\n",
    "    \n",
    "    text = remove_url(text)\n",
    "    text = remove_emoji(text)\n",
    "    text = remove_html(text)\n",
    "    \n",
    "    return text"
   ]
  },
  {
   "cell_type": "code",
   "execution_count": null,
   "metadata": {
    "execution": {
     "iopub.execute_input": "2021-05-11T00:46:51.124532Z",
     "iopub.status.busy": "2021-05-11T00:46:51.123793Z",
     "iopub.status.idle": "2021-05-11T00:46:51.134154Z",
     "shell.execute_reply": "2021-05-11T00:46:51.134708Z"
    },
    "papermill": {
     "duration": 0.842976,
     "end_time": "2021-05-11T00:46:51.134896",
     "exception": false,
     "start_time": "2021-05-11T00:46:50.291920",
     "status": "completed"
    },
    "tags": []
   },
   "outputs": [],
   "source": [
    "# Test emoji removal\n",
    "remove_emoji(\"Omg another Earthquake 😔😔\")"
   ]
  },
  {
   "cell_type": "code",
   "execution_count": null,
   "metadata": {
    "execution": {
     "iopub.execute_input": "2021-05-11T00:46:52.806999Z",
     "iopub.status.busy": "2021-05-11T00:46:52.806309Z",
     "iopub.status.idle": "2021-05-11T00:46:52.812119Z",
     "shell.execute_reply": "2021-05-11T00:46:52.812709Z"
    },
    "papermill": {
     "duration": 0.849652,
     "end_time": "2021-05-11T00:46:52.812920",
     "exception": false,
     "start_time": "2021-05-11T00:46:51.963268",
     "status": "completed"
    },
    "tags": []
   },
   "outputs": [],
   "source": [
    "stop_words = stopwords.words('english')\n",
    "more_stopwords = ['u', 'im', 'c']\n",
    "stop_words = stop_words + more_stopwords\n",
    "\n",
    "stemmer = nltk.SnowballStemmer(\"english\")\n",
    "\n",
    "def preprocess_data(text):\n",
    "    # Clean puntuation, urls, and so on\n",
    "    text = clean_text(text)\n",
    "    # Remove stopwords and Stemm all the words in the sentence\n",
    "    text = ' '.join(stemmer.stem(word) for word in text.split(' ') if word not in stop_words)\n",
    "\n",
    "    return text"
   ]
  },
  {
   "cell_type": "code",
   "execution_count": null,
   "metadata": {
    "execution": {
     "iopub.execute_input": "2021-05-11T00:46:54.490005Z",
     "iopub.status.busy": "2021-05-11T00:46:54.479206Z",
     "iopub.status.idle": "2021-05-11T00:46:57.250882Z",
     "shell.execute_reply": "2021-05-11T00:46:57.250281Z"
    },
    "papermill": {
     "duration": 3.618256,
     "end_time": "2021-05-11T00:46:57.251031",
     "exception": false,
     "start_time": "2021-05-11T00:46:53.632775",
     "status": "completed"
    },
    "tags": []
   },
   "outputs": [],
   "source": [
    "test_df['text_clean'] = test_df['text'].apply(preprocess_data)\n",
    "\n",
    "df['text_clean'] = df['text'].apply(preprocess_data)\n",
    "df.head()"
   ]
  },
  {
   "cell_type": "markdown",
   "metadata": {
    "papermill": {
     "duration": 0.811425,
     "end_time": "2021-05-11T00:46:58.881770",
     "exception": false,
     "start_time": "2021-05-11T00:46:58.070345",
     "status": "completed"
    },
    "tags": []
   },
   "source": [
    "<a id='9.3'></a>\n",
    "## <p style=\"background-color:skyblue; font-family:newtimeroman; font-size:140%; text-align:center; border-radius: 15px 50px;\">9.3 WordCloud</p>"
   ]
  },
  {
   "cell_type": "code",
   "execution_count": null,
   "metadata": {
    "_kg_hide-input": true,
    "execution": {
     "iopub.execute_input": "2021-05-11T00:47:00.525667Z",
     "iopub.status.busy": "2021-05-11T00:47:00.524942Z",
     "iopub.status.idle": "2021-05-11T00:47:00.530046Z",
     "shell.execute_reply": "2021-05-11T00:47:00.530612Z"
    },
    "papermill": {
     "duration": 0.831611,
     "end_time": "2021-05-11T00:47:00.530799",
     "exception": false,
     "start_time": "2021-05-11T00:46:59.699188",
     "status": "completed"
    },
    "tags": []
   },
   "outputs": [],
   "source": [
    "def create_corpus_df(tweet, target):\n",
    "    corpus=[]\n",
    "    \n",
    "    for x in tweet[tweet['target']==target]['text_clean'].str.split():\n",
    "        for i in x:\n",
    "            corpus.append(i)\n",
    "    return corpus"
   ]
  },
  {
   "cell_type": "markdown",
   "metadata": {
    "papermill": {
     "duration": 0.817484,
     "end_time": "2021-05-11T00:47:02.196509",
     "exception": false,
     "start_time": "2021-05-11T00:47:01.379025",
     "status": "completed"
    },
    "tags": []
   },
   "source": [
    "### Real disasters"
   ]
  },
  {
   "cell_type": "code",
   "execution_count": null,
   "metadata": {
    "_kg_hide-input": true,
    "execution": {
     "iopub.execute_input": "2021-05-11T00:47:03.833416Z",
     "iopub.status.busy": "2021-05-11T00:47:03.832740Z",
     "iopub.status.idle": "2021-05-11T00:47:03.864043Z",
     "shell.execute_reply": "2021-05-11T00:47:03.863312Z"
    },
    "papermill": {
     "duration": 0.852218,
     "end_time": "2021-05-11T00:47:03.864205",
     "exception": false,
     "start_time": "2021-05-11T00:47:03.011987",
     "status": "completed"
    },
    "tags": []
   },
   "outputs": [],
   "source": [
    "corpus_disaster_tweets = create_corpus_df(df, 1)\n",
    "\n",
    "dic=defaultdict(int)\n",
    "for word in corpus_disaster_tweets:\n",
    "    dic[word]+=1\n",
    "        \n",
    "top=sorted(dic.items(), key=lambda x:x[1],reverse=True)[:10]\n",
    "top"
   ]
  },
  {
   "cell_type": "code",
   "execution_count": null,
   "metadata": {
    "_kg_hide-input": true,
    "execution": {
     "iopub.execute_input": "2021-05-11T00:47:05.564337Z",
     "iopub.status.busy": "2021-05-11T00:47:05.563651Z",
     "iopub.status.idle": "2021-05-11T00:47:06.824313Z",
     "shell.execute_reply": "2021-05-11T00:47:06.825081Z"
    },
    "papermill": {
     "duration": 2.087595,
     "end_time": "2021-05-11T00:47:06.825334",
     "exception": false,
     "start_time": "2021-05-11T00:47:04.737739",
     "status": "completed"
    },
    "tags": []
   },
   "outputs": [],
   "source": [
    "wc = WordCloud(\n",
    "    background_color='white', \n",
    "    max_words=200, \n",
    "    mask=twitter_mask,\n",
    ")\n",
    "wc.generate(' '.join(text for text in df.loc[df['target'] == 1, 'text_clean']))\n",
    "plt.figure(figsize=(18,10))\n",
    "plt.title('Top words for Real Disaster tweets', \n",
    "          fontdict={'size': 22,  'verticalalignment': 'bottom'})\n",
    "plt.imshow(wc)\n",
    "plt.axis(\"off\")\n",
    "plt.show()"
   ]
  },
  {
   "cell_type": "markdown",
   "metadata": {
    "papermill": {
     "duration": 0.870267,
     "end_time": "2021-05-11T00:47:08.562418",
     "exception": false,
     "start_time": "2021-05-11T00:47:07.692151",
     "status": "completed"
    },
    "tags": []
   },
   "source": [
    "### Fake disasters"
   ]
  },
  {
   "cell_type": "code",
   "execution_count": null,
   "metadata": {
    "_kg_hide-input": true,
    "execution": {
     "iopub.execute_input": "2021-05-11T00:47:10.321327Z",
     "iopub.status.busy": "2021-05-11T00:47:10.320574Z",
     "iopub.status.idle": "2021-05-11T00:47:10.368776Z",
     "shell.execute_reply": "2021-05-11T00:47:10.368175Z"
    },
    "papermill": {
     "duration": 0.94884,
     "end_time": "2021-05-11T00:47:10.368940",
     "exception": false,
     "start_time": "2021-05-11T00:47:09.420100",
     "status": "completed"
    },
    "tags": []
   },
   "outputs": [],
   "source": [
    "corpus_disaster_tweets = create_corpus_df(df, 0)\n",
    "\n",
    "dic=defaultdict(int)\n",
    "for word in corpus_disaster_tweets:\n",
    "    dic[word]+=1\n",
    "        \n",
    "top=sorted(dic.items(), key=lambda x:x[1],reverse=True)[:10]\n",
    "top"
   ]
  },
  {
   "cell_type": "code",
   "execution_count": null,
   "metadata": {
    "_kg_hide-input": true,
    "execution": {
     "iopub.execute_input": "2021-05-11T00:47:12.206260Z",
     "iopub.status.busy": "2021-05-11T00:47:12.189563Z",
     "iopub.status.idle": "2021-05-11T00:47:13.621163Z",
     "shell.execute_reply": "2021-05-11T00:47:13.622000Z"
    },
    "papermill": {
     "duration": 2.358843,
     "end_time": "2021-05-11T00:47:13.622215",
     "exception": false,
     "start_time": "2021-05-11T00:47:11.263372",
     "status": "completed"
    },
    "tags": []
   },
   "outputs": [],
   "source": [
    "wc = WordCloud(\n",
    "    background_color='white', \n",
    "    max_words=200, \n",
    "    mask=twitter_mask,\n",
    ")\n",
    "wc.generate(' '.join(text for text in df.loc[df['target'] == 0, 'text_clean']))\n",
    "plt.figure(figsize=(18,10))\n",
    "plt.title('Top words for Fake messages', \n",
    "          fontdict={'size': 22,  'verticalalignment': 'bottom'})\n",
    "plt.imshow(wc)\n",
    "plt.axis(\"off\")\n",
    "plt.show()"
   ]
  },
  {
   "cell_type": "markdown",
   "metadata": {
    "papermill": {
     "duration": 0.872323,
     "end_time": "2021-05-11T00:47:15.383891",
     "exception": false,
     "start_time": "2021-05-11T00:47:14.511568",
     "status": "completed"
    },
    "tags": []
   },
   "source": [
    "<a id='9.4'></a>\n",
    "## <p style=\"background-color:skyblue; font-family:newtimeroman; font-size:140%; text-align:center; border-radius: 15px 50px;\">9.4 Modeling</p>"
   ]
  },
  {
   "cell_type": "code",
   "execution_count": null,
   "metadata": {
    "execution": {
     "iopub.execute_input": "2021-05-11T00:47:17.112371Z",
     "iopub.status.busy": "2021-05-11T00:47:17.111337Z",
     "iopub.status.idle": "2021-05-11T00:47:17.115935Z",
     "shell.execute_reply": "2021-05-11T00:47:17.115306Z"
    },
    "papermill": {
     "duration": 0.862937,
     "end_time": "2021-05-11T00:47:17.116098",
     "exception": false,
     "start_time": "2021-05-11T00:47:16.253161",
     "status": "completed"
    },
    "tags": []
   },
   "outputs": [],
   "source": [
    "# how to define X and y (from the SMS data) for use with COUNTVECTORIZER\n",
    "x = df['text_clean']\n",
    "y = df['target']\n",
    "\n",
    "# Split into train and test sets\n",
    "from sklearn.model_selection import train_test_split\n",
    "\n",
    "x_train, x_test, y_train, y_test = train_test_split(x, y, random_state=42)\n",
    "print(len(x_train), len(y_train))\n",
    "print(len(x_test), len(y_test))"
   ]
  },
  {
   "cell_type": "code",
   "execution_count": null,
   "metadata": {
    "execution": {
     "iopub.execute_input": "2021-05-11T00:47:18.888046Z",
     "iopub.status.busy": "2021-05-11T00:47:18.886959Z",
     "iopub.status.idle": "2021-05-11T00:47:20.726747Z",
     "shell.execute_reply": "2021-05-11T00:47:20.727383Z"
    },
    "papermill": {
     "duration": 2.751131,
     "end_time": "2021-05-11T00:47:20.727562",
     "exception": false,
     "start_time": "2021-05-11T00:47:17.976431",
     "status": "completed"
    },
    "tags": []
   },
   "outputs": [],
   "source": [
    "pipe = Pipeline([\n",
    "    ('bow', CountVectorizer()), \n",
    "    ('tfid', TfidfTransformer()),  \n",
    "    ('model', xgb.XGBClassifier(\n",
    "        use_label_encoder=False,\n",
    "        eval_metric='auc',\n",
    "    ))\n",
    "])\n",
    "from sklearn import metrics\n",
    "\n",
    "# Fit the pipeline with the data\n",
    "pipe.fit(x_train, y_train)\n",
    "\n",
    "y_pred_class = pipe.predict(x_test)\n",
    "y_pred_train = pipe.predict(x_train)\n",
    "\n",
    "print('Train: {}'.format(metrics.accuracy_score(y_train, y_pred_train)))\n",
    "print('Test: {}'.format(metrics.accuracy_score(y_test, y_pred_class)))\n",
    "\n",
    "conf_matrix(metrics.confusion_matrix(y_test, y_pred_class))"
   ]
  },
  {
   "cell_type": "markdown",
   "metadata": {
    "papermill": {
     "duration": 0.849633,
     "end_time": "2021-05-11T00:47:22.432334",
     "exception": false,
     "start_time": "2021-05-11T00:47:21.582701",
     "status": "completed"
    },
    "tags": []
   },
   "source": [
    "<a id='9.5'></a>\n",
    "## <p style=\"background-color:skyblue; font-family:newtimeroman; font-size:140%; text-align:center; border-radius: 15px 50px;\">9.5 GloVe - LSTM</p>"
   ]
  },
  {
   "cell_type": "code",
   "execution_count": null,
   "metadata": {
    "execution": {
     "iopub.execute_input": "2021-05-11T00:47:24.207870Z",
     "iopub.status.busy": "2021-05-11T00:47:24.206804Z",
     "iopub.status.idle": "2021-05-11T00:47:24.211570Z",
     "shell.execute_reply": "2021-05-11T00:47:24.210945Z"
    },
    "papermill": {
     "duration": 0.86939,
     "end_time": "2021-05-11T00:47:24.211741",
     "exception": false,
     "start_time": "2021-05-11T00:47:23.342351",
     "status": "completed"
    },
    "tags": []
   },
   "outputs": [],
   "source": [
    "train_tweets = df['text_clean'].values\n",
    "test_tweets = test_df['text_clean'].values\n",
    "train_target = df['target'].values"
   ]
  },
  {
   "cell_type": "code",
   "execution_count": null,
   "metadata": {
    "execution": {
     "iopub.execute_input": "2021-05-11T00:47:27.614633Z",
     "iopub.status.busy": "2021-05-11T00:47:27.609111Z",
     "iopub.status.idle": "2021-05-11T00:47:27.762648Z",
     "shell.execute_reply": "2021-05-11T00:47:27.762134Z"
    },
    "papermill": {
     "duration": 1.01023,
     "end_time": "2021-05-11T00:47:27.762795",
     "exception": false,
     "start_time": "2021-05-11T00:47:26.752565",
     "status": "completed"
    },
    "tags": []
   },
   "outputs": [],
   "source": [
    "# Calculate the length of our vocabulary\n",
    "word_tokenizer = Tokenizer()\n",
    "word_tokenizer.fit_on_texts(train_tweets)\n",
    "\n",
    "vocab_length = len(word_tokenizer.word_index) + 1\n",
    "vocab_length"
   ]
  },
  {
   "cell_type": "code",
   "execution_count": null,
   "metadata": {
    "_kg_hide-input": true,
    "execution": {
     "iopub.execute_input": "2021-05-11T00:47:29.438468Z",
     "iopub.status.busy": "2021-05-11T00:47:29.437417Z",
     "iopub.status.idle": "2021-05-11T00:47:29.441363Z",
     "shell.execute_reply": "2021-05-11T00:47:29.440765Z"
    },
    "papermill": {
     "duration": 0.844807,
     "end_time": "2021-05-11T00:47:29.441532",
     "exception": false,
     "start_time": "2021-05-11T00:47:28.596725",
     "status": "completed"
    },
    "tags": []
   },
   "outputs": [],
   "source": [
    "def show_metrics(pred_tag, y_test):\n",
    "    print(\"F1-score: \", f1_score(pred_tag, y_test))\n",
    "    print(\"Precision: \", precision_score(pred_tag, y_test))\n",
    "    print(\"Recall: \", recall_score(pred_tag, y_test))\n",
    "    print(\"Acuracy: \", accuracy_score(pred_tag, y_test))\n",
    "    print(\"-\"*50)\n",
    "    print(classification_report(pred_tag, y_test))\n",
    "    \n",
    "def embed(corpus): \n",
    "    return word_tokenizer.texts_to_sequences(corpus)"
   ]
  },
  {
   "cell_type": "markdown",
   "metadata": {
    "papermill": {
     "duration": 0.859528,
     "end_time": "2021-05-11T00:47:31.133897",
     "exception": false,
     "start_time": "2021-05-11T00:47:30.274369",
     "status": "completed"
    },
    "tags": []
   },
   "source": [
    "### Pad_sequences"
   ]
  },
  {
   "cell_type": "code",
   "execution_count": null,
   "metadata": {
    "_kg_hide-output": true,
    "execution": {
     "iopub.execute_input": "2021-05-11T00:47:32.813199Z",
     "iopub.status.busy": "2021-05-11T00:47:32.812496Z",
     "iopub.status.idle": "2021-05-11T00:47:34.325663Z",
     "shell.execute_reply": "2021-05-11T00:47:34.324519Z"
    },
    "papermill": {
     "duration": 2.355805,
     "end_time": "2021-05-11T00:47:34.325829",
     "exception": false,
     "start_time": "2021-05-11T00:47:31.970024",
     "status": "completed"
    },
    "tags": []
   },
   "outputs": [],
   "source": [
    "longest_train = max(train_tweets, key=lambda sentence: len(word_tokenize(sentence)))\n",
    "length_long_sentence = len(word_tokenize(longest_train))\n",
    "\n",
    "train_padded_sentences = pad_sequences(\n",
    "    embed(train_tweets), \n",
    "    length_long_sentence, \n",
    "    padding='post'\n",
    ")\n",
    "test_padded_sentences = pad_sequences(\n",
    "    embed(test_tweets), \n",
    "    length_long_sentence,\n",
    "    padding='post'\n",
    ")\n",
    "\n",
    "train_padded_sentences"
   ]
  },
  {
   "cell_type": "markdown",
   "metadata": {
    "papermill": {
     "duration": 0.838834,
     "end_time": "2021-05-11T00:47:36.057587",
     "exception": false,
     "start_time": "2021-05-11T00:47:35.218753",
     "status": "completed"
    },
    "tags": []
   },
   "source": [
    "### GloVe"
   ]
  },
  {
   "cell_type": "code",
   "execution_count": null,
   "metadata": {
    "execution": {
     "iopub.execute_input": "2021-05-11T00:47:37.754673Z",
     "iopub.status.busy": "2021-05-11T00:47:37.753718Z",
     "iopub.status.idle": "2021-05-11T00:47:37.757719Z",
     "shell.execute_reply": "2021-05-11T00:47:37.756685Z"
    },
    "papermill": {
     "duration": 0.864667,
     "end_time": "2021-05-11T00:47:37.757898",
     "exception": false,
     "start_time": "2021-05-11T00:47:36.893231",
     "status": "completed"
    },
    "tags": []
   },
   "outputs": [],
   "source": [
    "# Load GloVe 100D embeddings\n",
    "# We are not going to do it here as they were loaded earlier."
   ]
  },
  {
   "cell_type": "code",
   "execution_count": null,
   "metadata": {
    "_kg_hide-output": true,
    "execution": {
     "iopub.execute_input": "2021-05-11T00:47:39.613986Z",
     "iopub.status.busy": "2021-05-11T00:47:39.613208Z",
     "iopub.status.idle": "2021-05-11T00:47:39.672544Z",
     "shell.execute_reply": "2021-05-11T00:47:39.673119Z"
    },
    "papermill": {
     "duration": 0.964924,
     "end_time": "2021-05-11T00:47:39.673324",
     "exception": false,
     "start_time": "2021-05-11T00:47:38.708400",
     "status": "completed"
    },
    "tags": []
   },
   "outputs": [],
   "source": [
    "# Now we will load embedding vectors of those words that appear in the\n",
    "# Glove dictionary. Others will be initialized to 0.\n",
    "\n",
    "embedding_matrix = np.zeros((vocab_length, embedding_dim))\n",
    "\n",
    "for word, index in word_tokenizer.word_index.items():\n",
    "    embedding_vector = embeddings_dictionary.get(word)\n",
    "    if embedding_vector is not None:\n",
    "        embedding_matrix[index] = embedding_vector\n",
    "        \n",
    "embedding_matrix"
   ]
  },
  {
   "cell_type": "markdown",
   "metadata": {
    "papermill": {
     "duration": 0.868215,
     "end_time": "2021-05-11T00:47:41.410409",
     "exception": false,
     "start_time": "2021-05-11T00:47:40.542194",
     "status": "completed"
    },
    "tags": []
   },
   "source": [
    "### Model LSTM"
   ]
  },
  {
   "cell_type": "code",
   "execution_count": null,
   "metadata": {
    "execution": {
     "iopub.execute_input": "2021-05-11T00:47:43.129631Z",
     "iopub.status.busy": "2021-05-11T00:47:43.128830Z",
     "iopub.status.idle": "2021-05-11T00:47:43.133611Z",
     "shell.execute_reply": "2021-05-11T00:47:43.132880Z"
    },
    "papermill": {
     "duration": 0.867071,
     "end_time": "2021-05-11T00:47:43.133766",
     "exception": false,
     "start_time": "2021-05-11T00:47:42.266695",
     "status": "completed"
    },
    "tags": []
   },
   "outputs": [],
   "source": [
    "# Split data into train and test sets\n",
    "X_train, X_test, y_train, y_test = train_test_split(\n",
    "    train_padded_sentences, \n",
    "    train_target, \n",
    "    test_size=0.25\n",
    ")"
   ]
  },
  {
   "cell_type": "code",
   "execution_count": null,
   "metadata": {
    "execution": {
     "iopub.execute_input": "2021-05-11T00:47:44.883540Z",
     "iopub.status.busy": "2021-05-11T00:47:44.882700Z",
     "iopub.status.idle": "2021-05-11T00:48:35.709590Z",
     "shell.execute_reply": "2021-05-11T00:48:35.710142Z"
    },
    "papermill": {
     "duration": 51.715451,
     "end_time": "2021-05-11T00:48:35.710346",
     "exception": false,
     "start_time": "2021-05-11T00:47:43.994895",
     "status": "completed"
    },
    "tags": []
   },
   "outputs": [],
   "source": [
    "# Load the model and train!!\n",
    "\n",
    "model = glove_lstm()\n",
    "\n",
    "checkpoint = ModelCheckpoint(\n",
    "    'model.h5', \n",
    "    monitor = 'val_loss', \n",
    "    verbose = 1, \n",
    "    save_best_only = True\n",
    ")\n",
    "reduce_lr = ReduceLROnPlateau(\n",
    "    monitor = 'val_loss', \n",
    "    factor = 0.2, \n",
    "    verbose = 1, \n",
    "    patience = 5,                        \n",
    "    min_lr = 0.001\n",
    ")\n",
    "history = model.fit(\n",
    "    X_train, \n",
    "    y_train, \n",
    "    epochs = 7,\n",
    "    batch_size = 32,\n",
    "    validation_data = (X_test, y_test),\n",
    "    verbose = 1,\n",
    "    callbacks = [reduce_lr, checkpoint]\n",
    ")"
   ]
  },
  {
   "cell_type": "markdown",
   "metadata": {
    "papermill": {
     "duration": 1.045949,
     "end_time": "2021-05-11T00:48:37.853246",
     "exception": false,
     "start_time": "2021-05-11T00:48:36.807297",
     "status": "completed"
    },
    "tags": []
   },
   "source": [
    "###  Results"
   ]
  },
  {
   "cell_type": "code",
   "execution_count": null,
   "metadata": {
    "execution": {
     "iopub.execute_input": "2021-05-11T00:48:40.067649Z",
     "iopub.status.busy": "2021-05-11T00:48:40.065410Z",
     "iopub.status.idle": "2021-05-11T00:48:40.476825Z",
     "shell.execute_reply": "2021-05-11T00:48:40.477379Z"
    },
    "papermill": {
     "duration": 1.547306,
     "end_time": "2021-05-11T00:48:40.477579",
     "exception": false,
     "start_time": "2021-05-11T00:48:38.930273",
     "status": "completed"
    },
    "tags": []
   },
   "outputs": [],
   "source": [
    "plot_learning_curves(history, [['loss', 'val_loss'],['accuracy', 'val_accuracy']])"
   ]
  },
  {
   "cell_type": "code",
   "execution_count": null,
   "metadata": {
    "execution": {
     "iopub.execute_input": "2021-05-11T00:48:42.739558Z",
     "iopub.status.busy": "2021-05-11T00:48:42.738628Z",
     "iopub.status.idle": "2021-05-11T00:48:43.611586Z",
     "shell.execute_reply": "2021-05-11T00:48:43.612095Z"
    },
    "papermill": {
     "duration": 2.039836,
     "end_time": "2021-05-11T00:48:43.612291",
     "exception": false,
     "start_time": "2021-05-11T00:48:41.572455",
     "status": "completed"
    },
    "tags": []
   },
   "outputs": [],
   "source": [
    "preds = model.predict_classes(X_test)\n",
    "show_metrics(preds, y_test)"
   ]
  },
  {
   "cell_type": "code",
   "execution_count": null,
   "metadata": {
    "papermill": {
     "duration": 1.098376,
     "end_time": "2021-05-11T00:48:45.772746",
     "exception": false,
     "start_time": "2021-05-11T00:48:44.674370",
     "status": "completed"
    },
    "tags": []
   },
   "outputs": [],
   "source": []
  }
 ],
 "metadata": {
  "kernelspec": {
   "display_name": "Python 3 (ipykernel)",
   "language": "python",
   "name": "python3"
  },
  "language_info": {
   "codemirror_mode": {
    "name": "ipython",
    "version": 3
   },
   "file_extension": ".py",
   "mimetype": "text/x-python",
   "name": "python",
   "nbconvert_exporter": "python",
   "pygments_lexer": "ipython3",
   "version": "3.9.7"
  },
  "papermill": {
   "default_parameters": {},
   "duration": 5760.944231,
   "end_time": "2021-05-11T00:48:50.381159",
   "environment_variables": {},
   "exception": null,
   "input_path": "__notebook__.ipynb",
   "output_path": "__notebook__.ipynb",
   "parameters": {},
   "start_time": "2021-05-10T23:12:49.436928",
   "version": "2.2.2"
  },
  "widgets": {
   "application/vnd.jupyter.widget-state+json": {
    "state": {
     "0f13d0ea2c1348599a4ff211064af712": {
      "model_module": "@jupyter-widgets/base",
      "model_module_version": "1.2.0",
      "model_name": "LayoutModel",
      "state": {
       "_model_module": "@jupyter-widgets/base",
       "_model_module_version": "1.2.0",
       "_model_name": "LayoutModel",
       "_view_count": null,
       "_view_module": "@jupyter-widgets/base",
       "_view_module_version": "1.2.0",
       "_view_name": "LayoutView",
       "align_content": null,
       "align_items": null,
       "align_self": null,
       "border": null,
       "bottom": null,
       "display": null,
       "flex": null,
       "flex_flow": null,
       "grid_area": null,
       "grid_auto_columns": null,
       "grid_auto_flow": null,
       "grid_auto_rows": null,
       "grid_column": null,
       "grid_gap": null,
       "grid_row": null,
       "grid_template_areas": null,
       "grid_template_columns": null,
       "grid_template_rows": null,
       "height": null,
       "justify_content": null,
       "justify_items": null,
       "left": null,
       "margin": null,
       "max_height": null,
       "max_width": null,
       "min_height": null,
       "min_width": null,
       "object_fit": null,
       "object_position": null,
       "order": null,
       "overflow": null,
       "overflow_x": null,
       "overflow_y": null,
       "padding": null,
       "right": null,
       "top": null,
       "visibility": null,
       "width": null
      }
     },
     "11f11800cf57493f8721f274c7b74471": {
      "model_module": "@jupyter-widgets/controls",
      "model_module_version": "1.5.0",
      "model_name": "DescriptionStyleModel",
      "state": {
       "_model_module": "@jupyter-widgets/controls",
       "_model_module_version": "1.5.0",
       "_model_name": "DescriptionStyleModel",
       "_view_count": null,
       "_view_module": "@jupyter-widgets/base",
       "_view_module_version": "1.2.0",
       "_view_name": "StyleView",
       "description_width": ""
      }
     },
     "17358b6c96444e798d3ac12645463742": {
      "model_module": "@jupyter-widgets/base",
      "model_module_version": "1.2.0",
      "model_name": "LayoutModel",
      "state": {
       "_model_module": "@jupyter-widgets/base",
       "_model_module_version": "1.2.0",
       "_model_name": "LayoutModel",
       "_view_count": null,
       "_view_module": "@jupyter-widgets/base",
       "_view_module_version": "1.2.0",
       "_view_name": "LayoutView",
       "align_content": null,
       "align_items": null,
       "align_self": null,
       "border": null,
       "bottom": null,
       "display": null,
       "flex": null,
       "flex_flow": null,
       "grid_area": null,
       "grid_auto_columns": null,
       "grid_auto_flow": null,
       "grid_auto_rows": null,
       "grid_column": null,
       "grid_gap": null,
       "grid_row": null,
       "grid_template_areas": null,
       "grid_template_columns": null,
       "grid_template_rows": null,
       "height": null,
       "justify_content": null,
       "justify_items": null,
       "left": null,
       "margin": null,
       "max_height": null,
       "max_width": null,
       "min_height": null,
       "min_width": null,
       "object_fit": null,
       "object_position": null,
       "order": null,
       "overflow": null,
       "overflow_x": null,
       "overflow_y": null,
       "padding": null,
       "right": null,
       "top": null,
       "visibility": null,
       "width": null
      }
     },
     "194217601ae94f25b1d0df95d3c4d7a0": {
      "model_module": "@jupyter-widgets/controls",
      "model_module_version": "1.5.0",
      "model_name": "ProgressStyleModel",
      "state": {
       "_model_module": "@jupyter-widgets/controls",
       "_model_module_version": "1.5.0",
       "_model_name": "ProgressStyleModel",
       "_view_count": null,
       "_view_module": "@jupyter-widgets/base",
       "_view_module_version": "1.2.0",
       "_view_name": "StyleView",
       "bar_color": null,
       "description_width": ""
      }
     },
     "2164df928c7942629b1dcdb19db0e684": {
      "model_module": "@jupyter-widgets/base",
      "model_module_version": "1.2.0",
      "model_name": "LayoutModel",
      "state": {
       "_model_module": "@jupyter-widgets/base",
       "_model_module_version": "1.2.0",
       "_model_name": "LayoutModel",
       "_view_count": null,
       "_view_module": "@jupyter-widgets/base",
       "_view_module_version": "1.2.0",
       "_view_name": "LayoutView",
       "align_content": null,
       "align_items": null,
       "align_self": null,
       "border": null,
       "bottom": null,
       "display": null,
       "flex": null,
       "flex_flow": null,
       "grid_area": null,
       "grid_auto_columns": null,
       "grid_auto_flow": null,
       "grid_auto_rows": null,
       "grid_column": null,
       "grid_gap": null,
       "grid_row": null,
       "grid_template_areas": null,
       "grid_template_columns": null,
       "grid_template_rows": null,
       "height": null,
       "justify_content": null,
       "justify_items": null,
       "left": null,
       "margin": null,
       "max_height": null,
       "max_width": null,
       "min_height": null,
       "min_width": null,
       "object_fit": null,
       "object_position": null,
       "order": null,
       "overflow": null,
       "overflow_x": null,
       "overflow_y": null,
       "padding": null,
       "right": null,
       "top": null,
       "visibility": null,
       "width": null
      }
     },
     "22152df96c774026aeb6b22e0b424be2": {
      "model_module": "@jupyter-widgets/controls",
      "model_module_version": "1.5.0",
      "model_name": "HTMLModel",
      "state": {
       "_dom_classes": [],
       "_model_module": "@jupyter-widgets/controls",
       "_model_module_version": "1.5.0",
       "_model_name": "HTMLModel",
       "_view_count": null,
       "_view_module": "@jupyter-widgets/controls",
       "_view_module_version": "1.5.0",
       "_view_name": "HTMLView",
       "description": "",
       "description_tooltip": null,
       "layout": "IPY_MODEL_b31f5d391fb84d62a46e509467526cbf",
       "placeholder": "​",
       "style": "IPY_MODEL_9f95847052b2400f9e9db1f8f68b00a3",
       "value": "Downloading: 100%"
      }
     },
     "285a057e0420466b85194f42baa7b93c": {
      "model_module": "@jupyter-widgets/controls",
      "model_module_version": "1.5.0",
      "model_name": "ProgressStyleModel",
      "state": {
       "_model_module": "@jupyter-widgets/controls",
       "_model_module_version": "1.5.0",
       "_model_name": "ProgressStyleModel",
       "_view_count": null,
       "_view_module": "@jupyter-widgets/base",
       "_view_module_version": "1.2.0",
       "_view_name": "StyleView",
       "bar_color": null,
       "description_width": ""
      }
     },
     "2a19dd1889d7458eb2d2a8a225a473ee": {
      "model_module": "@jupyter-widgets/base",
      "model_module_version": "1.2.0",
      "model_name": "LayoutModel",
      "state": {
       "_model_module": "@jupyter-widgets/base",
       "_model_module_version": "1.2.0",
       "_model_name": "LayoutModel",
       "_view_count": null,
       "_view_module": "@jupyter-widgets/base",
       "_view_module_version": "1.2.0",
       "_view_name": "LayoutView",
       "align_content": null,
       "align_items": null,
       "align_self": null,
       "border": null,
       "bottom": null,
       "display": null,
       "flex": null,
       "flex_flow": null,
       "grid_area": null,
       "grid_auto_columns": null,
       "grid_auto_flow": null,
       "grid_auto_rows": null,
       "grid_column": null,
       "grid_gap": null,
       "grid_row": null,
       "grid_template_areas": null,
       "grid_template_columns": null,
       "grid_template_rows": null,
       "height": null,
       "justify_content": null,
       "justify_items": null,
       "left": null,
       "margin": null,
       "max_height": null,
       "max_width": null,
       "min_height": null,
       "min_width": null,
       "object_fit": null,
       "object_position": null,
       "order": null,
       "overflow": null,
       "overflow_x": null,
       "overflow_y": null,
       "padding": null,
       "right": null,
       "top": null,
       "visibility": null,
       "width": null
      }
     },
     "360686aae97d4a39954410164ddcc96c": {
      "model_module": "@jupyter-widgets/controls",
      "model_module_version": "1.5.0",
      "model_name": "HTMLModel",
      "state": {
       "_dom_classes": [],
       "_model_module": "@jupyter-widgets/controls",
       "_model_module_version": "1.5.0",
       "_model_name": "HTMLModel",
       "_view_count": null,
       "_view_module": "@jupyter-widgets/controls",
       "_view_module_version": "1.5.0",
       "_view_name": "HTMLView",
       "description": "",
       "description_tooltip": null,
       "layout": "IPY_MODEL_aa5033c54cb54750b4e1c8937655d49f",
       "placeholder": "​",
       "style": "IPY_MODEL_79af120217f84dd6bd522d148ddd8c0f",
       "value": " 536M/536M [00:30&lt;00:00, 15.4MB/s]"
      }
     },
     "3c83b1150a524ddaaf5b094ef4fb48ac": {
      "model_module": "@jupyter-widgets/controls",
      "model_module_version": "1.5.0",
      "model_name": "HBoxModel",
      "state": {
       "_dom_classes": [],
       "_model_module": "@jupyter-widgets/controls",
       "_model_module_version": "1.5.0",
       "_model_name": "HBoxModel",
       "_view_count": null,
       "_view_module": "@jupyter-widgets/controls",
       "_view_module_version": "1.5.0",
       "_view_name": "HBoxView",
       "box_style": "",
       "children": [
        "IPY_MODEL_b6e8157d76a940a693e934011f5a5c53",
        "IPY_MODEL_95a1ed1117334663a722d230df516d4f",
        "IPY_MODEL_360686aae97d4a39954410164ddcc96c"
       ],
       "layout": "IPY_MODEL_6566a0e37d144c4a9813873b971d5de7"
      }
     },
     "3ccba7baa6774e03abed2df32b701b84": {
      "model_module": "@jupyter-widgets/controls",
      "model_module_version": "1.5.0",
      "model_name": "ProgressStyleModel",
      "state": {
       "_model_module": "@jupyter-widgets/controls",
       "_model_module_version": "1.5.0",
       "_model_name": "ProgressStyleModel",
       "_view_count": null,
       "_view_module": "@jupyter-widgets/base",
       "_view_module_version": "1.2.0",
       "_view_name": "StyleView",
       "bar_color": null,
       "description_width": ""
      }
     },
     "5949d67b0a6f4069a4cb03b0b1ace47f": {
      "model_module": "@jupyter-widgets/base",
      "model_module_version": "1.2.0",
      "model_name": "LayoutModel",
      "state": {
       "_model_module": "@jupyter-widgets/base",
       "_model_module_version": "1.2.0",
       "_model_name": "LayoutModel",
       "_view_count": null,
       "_view_module": "@jupyter-widgets/base",
       "_view_module_version": "1.2.0",
       "_view_name": "LayoutView",
       "align_content": null,
       "align_items": null,
       "align_self": null,
       "border": null,
       "bottom": null,
       "display": null,
       "flex": null,
       "flex_flow": null,
       "grid_area": null,
       "grid_auto_columns": null,
       "grid_auto_flow": null,
       "grid_auto_rows": null,
       "grid_column": null,
       "grid_gap": null,
       "grid_row": null,
       "grid_template_areas": null,
       "grid_template_columns": null,
       "grid_template_rows": null,
       "height": null,
       "justify_content": null,
       "justify_items": null,
       "left": null,
       "margin": null,
       "max_height": null,
       "max_width": null,
       "min_height": null,
       "min_width": null,
       "object_fit": null,
       "object_position": null,
       "order": null,
       "overflow": null,
       "overflow_x": null,
       "overflow_y": null,
       "padding": null,
       "right": null,
       "top": null,
       "visibility": null,
       "width": null
      }
     },
     "6566a0e37d144c4a9813873b971d5de7": {
      "model_module": "@jupyter-widgets/base",
      "model_module_version": "1.2.0",
      "model_name": "LayoutModel",
      "state": {
       "_model_module": "@jupyter-widgets/base",
       "_model_module_version": "1.2.0",
       "_model_name": "LayoutModel",
       "_view_count": null,
       "_view_module": "@jupyter-widgets/base",
       "_view_module_version": "1.2.0",
       "_view_name": "LayoutView",
       "align_content": null,
       "align_items": null,
       "align_self": null,
       "border": null,
       "bottom": null,
       "display": null,
       "flex": null,
       "flex_flow": null,
       "grid_area": null,
       "grid_auto_columns": null,
       "grid_auto_flow": null,
       "grid_auto_rows": null,
       "grid_column": null,
       "grid_gap": null,
       "grid_row": null,
       "grid_template_areas": null,
       "grid_template_columns": null,
       "grid_template_rows": null,
       "height": null,
       "justify_content": null,
       "justify_items": null,
       "left": null,
       "margin": null,
       "max_height": null,
       "max_width": null,
       "min_height": null,
       "min_width": null,
       "object_fit": null,
       "object_position": null,
       "order": null,
       "overflow": null,
       "overflow_x": null,
       "overflow_y": null,
       "padding": null,
       "right": null,
       "top": null,
       "visibility": null,
       "width": null
      }
     },
     "79af120217f84dd6bd522d148ddd8c0f": {
      "model_module": "@jupyter-widgets/controls",
      "model_module_version": "1.5.0",
      "model_name": "DescriptionStyleModel",
      "state": {
       "_model_module": "@jupyter-widgets/controls",
       "_model_module_version": "1.5.0",
       "_model_name": "DescriptionStyleModel",
       "_view_count": null,
       "_view_module": "@jupyter-widgets/base",
       "_view_module_version": "1.2.0",
       "_view_name": "StyleView",
       "description_width": ""
      }
     },
     "79cef27cde3c467985ccf322b74f0ebf": {
      "model_module": "@jupyter-widgets/controls",
      "model_module_version": "1.5.0",
      "model_name": "DescriptionStyleModel",
      "state": {
       "_model_module": "@jupyter-widgets/controls",
       "_model_module_version": "1.5.0",
       "_model_name": "DescriptionStyleModel",
       "_view_count": null,
       "_view_module": "@jupyter-widgets/base",
       "_view_module_version": "1.2.0",
       "_view_name": "StyleView",
       "description_width": ""
      }
     },
     "7c882e9996a243d69b3e7eceb38f722b": {
      "model_module": "@jupyter-widgets/controls",
      "model_module_version": "1.5.0",
      "model_name": "DescriptionStyleModel",
      "state": {
       "_model_module": "@jupyter-widgets/controls",
       "_model_module_version": "1.5.0",
       "_model_name": "DescriptionStyleModel",
       "_view_count": null,
       "_view_module": "@jupyter-widgets/base",
       "_view_module_version": "1.2.0",
       "_view_name": "StyleView",
       "description_width": ""
      }
     },
     "95a1ed1117334663a722d230df516d4f": {
      "model_module": "@jupyter-widgets/controls",
      "model_module_version": "1.5.0",
      "model_name": "FloatProgressModel",
      "state": {
       "_dom_classes": [],
       "_model_module": "@jupyter-widgets/controls",
       "_model_module_version": "1.5.0",
       "_model_name": "FloatProgressModel",
       "_view_count": null,
       "_view_module": "@jupyter-widgets/controls",
       "_view_module_version": "1.5.0",
       "_view_name": "ProgressView",
       "bar_style": "success",
       "description": "",
       "description_tooltip": null,
       "layout": "IPY_MODEL_0f13d0ea2c1348599a4ff211064af712",
       "max": 536063208,
       "min": 0,
       "orientation": "horizontal",
       "style": "IPY_MODEL_194217601ae94f25b1d0df95d3c4d7a0",
       "value": 536063208
      }
     },
     "99f80c0db1054aeb89a108615df3f917": {
      "model_module": "@jupyter-widgets/controls",
      "model_module_version": "1.5.0",
      "model_name": "DescriptionStyleModel",
      "state": {
       "_model_module": "@jupyter-widgets/controls",
       "_model_module_version": "1.5.0",
       "_model_name": "DescriptionStyleModel",
       "_view_count": null,
       "_view_module": "@jupyter-widgets/base",
       "_view_module_version": "1.2.0",
       "_view_name": "StyleView",
       "description_width": ""
      }
     },
     "9f95847052b2400f9e9db1f8f68b00a3": {
      "model_module": "@jupyter-widgets/controls",
      "model_module_version": "1.5.0",
      "model_name": "DescriptionStyleModel",
      "state": {
       "_model_module": "@jupyter-widgets/controls",
       "_model_module_version": "1.5.0",
       "_model_name": "DescriptionStyleModel",
       "_view_count": null,
       "_view_module": "@jupyter-widgets/base",
       "_view_module_version": "1.2.0",
       "_view_name": "StyleView",
       "description_width": ""
      }
     },
     "a88ceae3f23f46eca79d97d0641d288d": {
      "model_module": "@jupyter-widgets/controls",
      "model_module_version": "1.5.0",
      "model_name": "HTMLModel",
      "state": {
       "_dom_classes": [],
       "_model_module": "@jupyter-widgets/controls",
       "_model_module_version": "1.5.0",
       "_model_name": "HTMLModel",
       "_view_count": null,
       "_view_module": "@jupyter-widgets/controls",
       "_view_module_version": "1.5.0",
       "_view_name": "HTMLView",
       "description": "",
       "description_tooltip": null,
       "layout": "IPY_MODEL_b64ac5a02d8346c7b5c19bb1fe06145d",
       "placeholder": "​",
       "style": "IPY_MODEL_99f80c0db1054aeb89a108615df3f917",
       "value": "Downloading: 100%"
      }
     },
     "aa5033c54cb54750b4e1c8937655d49f": {
      "model_module": "@jupyter-widgets/base",
      "model_module_version": "1.2.0",
      "model_name": "LayoutModel",
      "state": {
       "_model_module": "@jupyter-widgets/base",
       "_model_module_version": "1.2.0",
       "_model_name": "LayoutModel",
       "_view_count": null,
       "_view_module": "@jupyter-widgets/base",
       "_view_module_version": "1.2.0",
       "_view_name": "LayoutView",
       "align_content": null,
       "align_items": null,
       "align_self": null,
       "border": null,
       "bottom": null,
       "display": null,
       "flex": null,
       "flex_flow": null,
       "grid_area": null,
       "grid_auto_columns": null,
       "grid_auto_flow": null,
       "grid_auto_rows": null,
       "grid_column": null,
       "grid_gap": null,
       "grid_row": null,
       "grid_template_areas": null,
       "grid_template_columns": null,
       "grid_template_rows": null,
       "height": null,
       "justify_content": null,
       "justify_items": null,
       "left": null,
       "margin": null,
       "max_height": null,
       "max_width": null,
       "min_height": null,
       "min_width": null,
       "object_fit": null,
       "object_position": null,
       "order": null,
       "overflow": null,
       "overflow_x": null,
       "overflow_y": null,
       "padding": null,
       "right": null,
       "top": null,
       "visibility": null,
       "width": null
      }
     },
     "af90267e32a442b395a487acffe62ebc": {
      "model_module": "@jupyter-widgets/controls",
      "model_module_version": "1.5.0",
      "model_name": "HBoxModel",
      "state": {
       "_dom_classes": [],
       "_model_module": "@jupyter-widgets/controls",
       "_model_module_version": "1.5.0",
       "_model_name": "HBoxModel",
       "_view_count": null,
       "_view_module": "@jupyter-widgets/controls",
       "_view_module_version": "1.5.0",
       "_view_name": "HBoxView",
       "box_style": "",
       "children": [
        "IPY_MODEL_22152df96c774026aeb6b22e0b424be2",
        "IPY_MODEL_e81ecfebcfc946b69fd08d2145a2aacf",
        "IPY_MODEL_b3ba73db19c54dfab37a319bd6415258"
       ],
       "layout": "IPY_MODEL_e5ee979b82c24698bdea6b0d78a1605d"
      }
     },
     "b31f5d391fb84d62a46e509467526cbf": {
      "model_module": "@jupyter-widgets/base",
      "model_module_version": "1.2.0",
      "model_name": "LayoutModel",
      "state": {
       "_model_module": "@jupyter-widgets/base",
       "_model_module_version": "1.2.0",
       "_model_name": "LayoutModel",
       "_view_count": null,
       "_view_module": "@jupyter-widgets/base",
       "_view_module_version": "1.2.0",
       "_view_name": "LayoutView",
       "align_content": null,
       "align_items": null,
       "align_self": null,
       "border": null,
       "bottom": null,
       "display": null,
       "flex": null,
       "flex_flow": null,
       "grid_area": null,
       "grid_auto_columns": null,
       "grid_auto_flow": null,
       "grid_auto_rows": null,
       "grid_column": null,
       "grid_gap": null,
       "grid_row": null,
       "grid_template_areas": null,
       "grid_template_columns": null,
       "grid_template_rows": null,
       "height": null,
       "justify_content": null,
       "justify_items": null,
       "left": null,
       "margin": null,
       "max_height": null,
       "max_width": null,
       "min_height": null,
       "min_width": null,
       "object_fit": null,
       "object_position": null,
       "order": null,
       "overflow": null,
       "overflow_x": null,
       "overflow_y": null,
       "padding": null,
       "right": null,
       "top": null,
       "visibility": null,
       "width": null
      }
     },
     "b357b6be467749d7afe243b2da9b7427": {
      "model_module": "@jupyter-widgets/controls",
      "model_module_version": "1.5.0",
      "model_name": "FloatProgressModel",
      "state": {
       "_dom_classes": [],
       "_model_module": "@jupyter-widgets/controls",
       "_model_module_version": "1.5.0",
       "_model_name": "FloatProgressModel",
       "_view_count": null,
       "_view_module": "@jupyter-widgets/controls",
       "_view_module_version": "1.5.0",
       "_view_name": "ProgressView",
       "bar_style": "success",
       "description": "",
       "description_tooltip": null,
       "layout": "IPY_MODEL_f917a9b8223b4798ba70d7cd6c9526aa",
       "max": 231508,
       "min": 0,
       "orientation": "horizontal",
       "style": "IPY_MODEL_3ccba7baa6774e03abed2df32b701b84",
       "value": 231508
      }
     },
     "b3ba73db19c54dfab37a319bd6415258": {
      "model_module": "@jupyter-widgets/controls",
      "model_module_version": "1.5.0",
      "model_name": "HTMLModel",
      "state": {
       "_dom_classes": [],
       "_model_module": "@jupyter-widgets/controls",
       "_model_module_version": "1.5.0",
       "_model_name": "HTMLModel",
       "_view_count": null,
       "_view_module": "@jupyter-widgets/controls",
       "_view_module_version": "1.5.0",
       "_view_name": "HTMLView",
       "description": "",
       "description_tooltip": null,
       "layout": "IPY_MODEL_2a19dd1889d7458eb2d2a8a225a473ee",
       "placeholder": "​",
       "style": "IPY_MODEL_7c882e9996a243d69b3e7eceb38f722b",
       "value": " 570/570 [00:00&lt;00:00, 14.9kB/s]"
      }
     },
     "b5b108b2b2fa4491b63bf7d67d78b4fb": {
      "model_module": "@jupyter-widgets/controls",
      "model_module_version": "1.5.0",
      "model_name": "HTMLModel",
      "state": {
       "_dom_classes": [],
       "_model_module": "@jupyter-widgets/controls",
       "_model_module_version": "1.5.0",
       "_model_name": "HTMLModel",
       "_view_count": null,
       "_view_module": "@jupyter-widgets/controls",
       "_view_module_version": "1.5.0",
       "_view_name": "HTMLView",
       "description": "",
       "description_tooltip": null,
       "layout": "IPY_MODEL_5949d67b0a6f4069a4cb03b0b1ace47f",
       "placeholder": "​",
       "style": "IPY_MODEL_11f11800cf57493f8721f274c7b74471",
       "value": " 232k/232k [00:00&lt;00:00, 868kB/s]"
      }
     },
     "b64ac5a02d8346c7b5c19bb1fe06145d": {
      "model_module": "@jupyter-widgets/base",
      "model_module_version": "1.2.0",
      "model_name": "LayoutModel",
      "state": {
       "_model_module": "@jupyter-widgets/base",
       "_model_module_version": "1.2.0",
       "_model_name": "LayoutModel",
       "_view_count": null,
       "_view_module": "@jupyter-widgets/base",
       "_view_module_version": "1.2.0",
       "_view_name": "LayoutView",
       "align_content": null,
       "align_items": null,
       "align_self": null,
       "border": null,
       "bottom": null,
       "display": null,
       "flex": null,
       "flex_flow": null,
       "grid_area": null,
       "grid_auto_columns": null,
       "grid_auto_flow": null,
       "grid_auto_rows": null,
       "grid_column": null,
       "grid_gap": null,
       "grid_row": null,
       "grid_template_areas": null,
       "grid_template_columns": null,
       "grid_template_rows": null,
       "height": null,
       "justify_content": null,
       "justify_items": null,
       "left": null,
       "margin": null,
       "max_height": null,
       "max_width": null,
       "min_height": null,
       "min_width": null,
       "object_fit": null,
       "object_position": null,
       "order": null,
       "overflow": null,
       "overflow_x": null,
       "overflow_y": null,
       "padding": null,
       "right": null,
       "top": null,
       "visibility": null,
       "width": null
      }
     },
     "b6e8157d76a940a693e934011f5a5c53": {
      "model_module": "@jupyter-widgets/controls",
      "model_module_version": "1.5.0",
      "model_name": "HTMLModel",
      "state": {
       "_dom_classes": [],
       "_model_module": "@jupyter-widgets/controls",
       "_model_module_version": "1.5.0",
       "_model_name": "HTMLModel",
       "_view_count": null,
       "_view_module": "@jupyter-widgets/controls",
       "_view_module_version": "1.5.0",
       "_view_name": "HTMLView",
       "description": "",
       "description_tooltip": null,
       "layout": "IPY_MODEL_17358b6c96444e798d3ac12645463742",
       "placeholder": "​",
       "style": "IPY_MODEL_79cef27cde3c467985ccf322b74f0ebf",
       "value": "Downloading: 100%"
      }
     },
     "c324267ea6fe491a8448643e11eab8c8": {
      "model_module": "@jupyter-widgets/controls",
      "model_module_version": "1.5.0",
      "model_name": "HBoxModel",
      "state": {
       "_dom_classes": [],
       "_model_module": "@jupyter-widgets/controls",
       "_model_module_version": "1.5.0",
       "_model_name": "HBoxModel",
       "_view_count": null,
       "_view_module": "@jupyter-widgets/controls",
       "_view_module_version": "1.5.0",
       "_view_name": "HBoxView",
       "box_style": "",
       "children": [
        "IPY_MODEL_a88ceae3f23f46eca79d97d0641d288d",
        "IPY_MODEL_b357b6be467749d7afe243b2da9b7427",
        "IPY_MODEL_b5b108b2b2fa4491b63bf7d67d78b4fb"
       ],
       "layout": "IPY_MODEL_2164df928c7942629b1dcdb19db0e684"
      }
     },
     "da4c1cc6654842a3b9a464585e05a8ad": {
      "model_module": "@jupyter-widgets/base",
      "model_module_version": "1.2.0",
      "model_name": "LayoutModel",
      "state": {
       "_model_module": "@jupyter-widgets/base",
       "_model_module_version": "1.2.0",
       "_model_name": "LayoutModel",
       "_view_count": null,
       "_view_module": "@jupyter-widgets/base",
       "_view_module_version": "1.2.0",
       "_view_name": "LayoutView",
       "align_content": null,
       "align_items": null,
       "align_self": null,
       "border": null,
       "bottom": null,
       "display": null,
       "flex": null,
       "flex_flow": null,
       "grid_area": null,
       "grid_auto_columns": null,
       "grid_auto_flow": null,
       "grid_auto_rows": null,
       "grid_column": null,
       "grid_gap": null,
       "grid_row": null,
       "grid_template_areas": null,
       "grid_template_columns": null,
       "grid_template_rows": null,
       "height": null,
       "justify_content": null,
       "justify_items": null,
       "left": null,
       "margin": null,
       "max_height": null,
       "max_width": null,
       "min_height": null,
       "min_width": null,
       "object_fit": null,
       "object_position": null,
       "order": null,
       "overflow": null,
       "overflow_x": null,
       "overflow_y": null,
       "padding": null,
       "right": null,
       "top": null,
       "visibility": null,
       "width": null
      }
     },
     "e5ee979b82c24698bdea6b0d78a1605d": {
      "model_module": "@jupyter-widgets/base",
      "model_module_version": "1.2.0",
      "model_name": "LayoutModel",
      "state": {
       "_model_module": "@jupyter-widgets/base",
       "_model_module_version": "1.2.0",
       "_model_name": "LayoutModel",
       "_view_count": null,
       "_view_module": "@jupyter-widgets/base",
       "_view_module_version": "1.2.0",
       "_view_name": "LayoutView",
       "align_content": null,
       "align_items": null,
       "align_self": null,
       "border": null,
       "bottom": null,
       "display": null,
       "flex": null,
       "flex_flow": null,
       "grid_area": null,
       "grid_auto_columns": null,
       "grid_auto_flow": null,
       "grid_auto_rows": null,
       "grid_column": null,
       "grid_gap": null,
       "grid_row": null,
       "grid_template_areas": null,
       "grid_template_columns": null,
       "grid_template_rows": null,
       "height": null,
       "justify_content": null,
       "justify_items": null,
       "left": null,
       "margin": null,
       "max_height": null,
       "max_width": null,
       "min_height": null,
       "min_width": null,
       "object_fit": null,
       "object_position": null,
       "order": null,
       "overflow": null,
       "overflow_x": null,
       "overflow_y": null,
       "padding": null,
       "right": null,
       "top": null,
       "visibility": null,
       "width": null
      }
     },
     "e81ecfebcfc946b69fd08d2145a2aacf": {
      "model_module": "@jupyter-widgets/controls",
      "model_module_version": "1.5.0",
      "model_name": "FloatProgressModel",
      "state": {
       "_dom_classes": [],
       "_model_module": "@jupyter-widgets/controls",
       "_model_module_version": "1.5.0",
       "_model_name": "FloatProgressModel",
       "_view_count": null,
       "_view_module": "@jupyter-widgets/controls",
       "_view_module_version": "1.5.0",
       "_view_name": "ProgressView",
       "bar_style": "success",
       "description": "",
       "description_tooltip": null,
       "layout": "IPY_MODEL_da4c1cc6654842a3b9a464585e05a8ad",
       "max": 570,
       "min": 0,
       "orientation": "horizontal",
       "style": "IPY_MODEL_285a057e0420466b85194f42baa7b93c",
       "value": 570
      }
     },
     "f917a9b8223b4798ba70d7cd6c9526aa": {
      "model_module": "@jupyter-widgets/base",
      "model_module_version": "1.2.0",
      "model_name": "LayoutModel",
      "state": {
       "_model_module": "@jupyter-widgets/base",
       "_model_module_version": "1.2.0",
       "_model_name": "LayoutModel",
       "_view_count": null,
       "_view_module": "@jupyter-widgets/base",
       "_view_module_version": "1.2.0",
       "_view_name": "LayoutView",
       "align_content": null,
       "align_items": null,
       "align_self": null,
       "border": null,
       "bottom": null,
       "display": null,
       "flex": null,
       "flex_flow": null,
       "grid_area": null,
       "grid_auto_columns": null,
       "grid_auto_flow": null,
       "grid_auto_rows": null,
       "grid_column": null,
       "grid_gap": null,
       "grid_row": null,
       "grid_template_areas": null,
       "grid_template_columns": null,
       "grid_template_rows": null,
       "height": null,
       "justify_content": null,
       "justify_items": null,
       "left": null,
       "margin": null,
       "max_height": null,
       "max_width": null,
       "min_height": null,
       "min_width": null,
       "object_fit": null,
       "object_position": null,
       "order": null,
       "overflow": null,
       "overflow_x": null,
       "overflow_y": null,
       "padding": null,
       "right": null,
       "top": null,
       "visibility": null,
       "width": null
      }
     }
    },
    "version_major": 2,
    "version_minor": 0
   }
  }
 },
 "nbformat": 4,
 "nbformat_minor": 4
}
