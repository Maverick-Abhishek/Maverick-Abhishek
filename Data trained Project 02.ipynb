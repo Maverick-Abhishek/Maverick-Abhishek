{
 "cells": [
  {
   "cell_type": "markdown",
   "id": "e3daa096",
   "metadata": {},
   "source": [
    "# Red Wine Quality Prediction\n",
    "Problem Statement:\n",
    "The dataset is related to red and white variants of the Portuguese \"Vinho Verde\" wine. Due to privacy and logistic issues, only physicochemical (inputs) and sensory (the output) variables are available (e.g. there is no data about grape types, wine brand, wine selling price, etc.).\n",
    "\n",
    "This dataset can be viewed as classification task. The classes are ordered and not balanced (e.g. there are many more normal wines than excellent or poor ones). Also, we are not sure if all input variables are relevant. So it could be interesting to test feature selection methods.\n",
    "\n",
    "Attribute Information\n",
    "\n",
    "Input variables (based on physicochemical tests):\n",
    "1 - fixed acidity\n",
    "2 - volatile acidity\n",
    "3 - citric acid\n",
    "4 - residual sugar\n",
    "5 - chlorides\n",
    "6 - free sulfur dioxide\n",
    "7 - total sulfur dioxide\n",
    "8 - density\n",
    "9 - pH\n",
    "10 - sulphates\n",
    "11 - alcohol\n",
    "Output variable (based on sensory data):\n",
    "12 - quality (score between 0 and 10)\n",
    "\n",
    "What might be an interesting thing to do, is to set an arbitrary cutoff for your dependent variable (wine quality) at e.g. 7 or higher getting classified as 'good/1' and the remainder as 'not good/0'.\n",
    "This allows you to practice with hyper parameter tuning on e.g. decision tree algorithms looking at the ROC curve and the AUC value.\n",
    "\n",
    "You need to build a classification model. \n",
    "\n",
    "Inspiration\n",
    "\n",
    "Use machine learning to determine which physiochemical properties make a wine 'good'!\n",
    "\n"
   ]
  },
  {
   "cell_type": "code",
   "execution_count": null,
   "id": "1b8c3055",
   "metadata": {},
   "outputs": [],
   "source": [
    "import pandas as pd\n"
   ]
  },
  {
   "cell_type": "code",
   "execution_count": null,
   "id": "13ee281d",
   "metadata": {},
   "outputs": [],
   "source": [
    "import numpy as np"
   ]
  },
  {
   "cell_type": "code",
   "execution_count": null,
   "id": "10548162",
   "metadata": {},
   "outputs": [],
   "source": [
    "import matplotlib.pyplot as plt"
   ]
  },
  {
   "cell_type": "code",
   "execution_count": null,
   "id": "58020d79",
   "metadata": {},
   "outputs": [],
   "source": [
    "import seaborn as sb\n"
   ]
  },
  {
   "cell_type": "code",
   "execution_count": null,
   "id": "5bde8992",
   "metadata": {},
   "outputs": [],
   "source": [
    "import warnings"
   ]
  },
  {
   "cell_type": "code",
   "execution_count": null,
   "id": "b30af7f0",
   "metadata": {},
   "outputs": [],
   "source": [
    "%matplotlib inline"
   ]
  },
  {
   "cell_type": "code",
   "execution_count": null,
   "id": "72892207",
   "metadata": {},
   "outputs": [],
   "source": [
    "warnings.filterwarnings('ignore')"
   ]
  },
  {
   "cell_type": "code",
   "execution_count": null,
   "id": "59dff134",
   "metadata": {},
   "outputs": [],
   "source": [
    "df=pd.read_csv(r'C:\\\\Users\\\\win 7\\\\Desktop\\\\Datascience\\\\Wine.csv')"
   ]
  },
  {
   "cell_type": "code",
   "execution_count": null,
   "id": "7ed5bf08",
   "metadata": {},
   "outputs": [],
   "source": [
    "df.head()"
   ]
  },
  {
   "cell_type": "code",
   "execution_count": null,
   "id": "6a1a5a8f",
   "metadata": {},
   "outputs": [],
   "source": [
    "df.describe()"
   ]
  },
  {
   "cell_type": "code",
   "execution_count": null,
   "id": "c64d2c82",
   "metadata": {},
   "outputs": [],
   "source": [
    "df.info()"
   ]
  },
  {
   "cell_type": "code",
   "execution_count": null,
   "id": "0a763363",
   "metadata": {},
   "outputs": [],
   "source": [
    "df.isnull().sum()"
   ]
  },
  {
   "cell_type": "code",
   "execution_count": null,
   "id": "ae54937a",
   "metadata": {},
   "outputs": [],
   "source": [
    "#fill the missing values\n",
    "for col, value in df.items():\n",
    "    if col !='type':\n",
    "        df[col]=df.[col].fillna(df[col].mean())"
   ]
  },
  {
   "cell_type": "code",
   "execution_count": null,
   "id": "0fc90ec2",
   "metadata": {},
   "outputs": [],
   "source": [
    "df.isnull().sum()"
   ]
  },
  {
   "cell_type": "code",
   "execution_count": null,
   "id": "d9bf27ab",
   "metadata": {},
   "outputs": [],
   "source": [
    "# create box plots\n",
    "fig, ax=plt.subplots(ncol=6, nrows=2, figsize=(20,10))\n",
    "index=0\n",
    "ax=ax.flatten()\n",
    "\n",
    "for col,value in df.items():\n",
    "    if col !='type':\n",
    "         sns.boxplot(y=col, data=df, ax=ax[index])\n",
    "         index=+1\n",
    "plt.tight_layout(pad=0.5, w_pad=0.7, h_pad=5.0)            "
   ]
  },
  {
   "cell_type": "code",
   "execution_count": null,
   "id": "df81c77e",
   "metadata": {},
   "outputs": [],
   "source": [
    "#log transformation\n",
    "df['free sulfur dioxide']=np.log(1+ df['free sulfur dioxide'])"
   ]
  },
  {
   "cell_type": "code",
   "execution_count": null,
   "id": "2929fb39",
   "metadata": {},
   "outputs": [],
   "source": [
    "sns.distplot(df['free sulfur dioxide'])"
   ]
  },
  {
   "cell_type": "code",
   "execution_count": null,
   "id": "910f7ce2",
   "metadata": {},
   "outputs": [],
   "source": [
    "sns.countplot(df['type'])"
   ]
  },
  {
   "cell_type": "code",
   "execution_count": null,
   "id": "e264508d",
   "metadata": {},
   "outputs": [],
   "source": [
    "sns.countplot(df['quality'])"
   ]
  },
  {
   "cell_type": "markdown",
   "id": "e0ddfa15",
   "metadata": {},
   "source": [
    "# Coorelation Matrix"
   ]
  },
  {
   "cell_type": "code",
   "execution_count": null,
   "id": "15f0663a",
   "metadata": {},
   "outputs": [],
   "source": [
    "corr=df.corr()\n",
    "plt.figure(figsize(20,10))\n",
    "sns.heatmap(corr, annot=True, cmap='coolwarm')"
   ]
  },
  {
   "cell_type": "markdown",
   "id": "5e7a5b87",
   "metadata": {},
   "source": [
    "# Input Split"
   ]
  },
  {
   "cell_type": "code",
   "execution_count": null,
   "id": "4d3193e3",
   "metadata": {},
   "outputs": [],
   "source": [
    "X=df.drop(columns=['type','quality'])\n",
    "Y=df['quality']\n"
   ]
  },
  {
   "cell_type": "markdown",
   "id": "ff5afc71",
   "metadata": {},
   "source": [
    "# Class Imbalancement"
   ]
  },
  {
   "cell_type": "code",
   "execution_count": null,
   "id": "743103fc",
   "metadata": {},
   "outputs": [],
   "source": [
    "Y.value_counts()"
   ]
  },
  {
   "cell_type": "code",
   "execution_count": null,
   "id": "9ba12615",
   "metadata": {},
   "outputs": [],
   "source": [
    "from imbeamlearn.over_sampling import SMOTE\n",
    "oversample=SMOTE(k_neighbors=4)\n",
    "#transform the dataset\n",
    "X,Y=oversample.fit_resample(X,Y)"
   ]
  },
  {
   "cell_type": "code",
   "execution_count": null,
   "id": "dd7a0cbf",
   "metadata": {},
   "outputs": [],
   "source": [
    "Y.value_counts()"
   ]
  },
  {
   "cell_type": "code",
   "execution_count": null,
   "id": "7017612b",
   "metadata": {},
   "outputs": [],
   "source": [
    "#Classify function\n",
    "from sklearn.model_selection import cross_val_score, train_test_split\n",
    "def classify (model, X,Y):\n",
    "    X_train, X_test, Y_train, Y_test+train_test_split(X,Y, test_size=0.25, random_state=42)\n",
    "    #train the model\n",
    "    model.fit(X_train, Y_train)\n",
    "    print(\"Accuracy:\",model.score(X_test, Y_test)*100)\n",
    "    \n",
    "    #cross-valdiation \n",
    "    score=cross_val_score(model,X,Y,cv=5)\n",
    "    print(\"CV Score:\", np.mean(score)*100)"
   ]
  },
  {
   "cell_type": "code",
   "execution_count": null,
   "id": "31440f15",
   "metadata": {
    "scrolled": true
   },
   "outputs": [],
   "source": [
    "from sklearn.linear_model import LogisticRegression\n",
    "model=logisticRegression()\n",
    "classify (model,X,Y)"
   ]
  },
  {
   "cell_type": "code",
   "execution_count": null,
   "id": "92dcc155",
   "metadata": {},
   "outputs": [],
   "source": [
    "from sklearn.tree import DecissionTreeClassifier\n",
    "model=DecissionTreeClassifier()\n",
    "classify (model,X,Y)"
   ]
  },
  {
   "cell_type": "code",
   "execution_count": null,
   "id": "c37058f9",
   "metadata": {},
   "outputs": [],
   "source": [
    "from sklearn.ensemble import ExtraTreesClassifier \n",
    "model=ExtraTreesClassifier()\n",
    "classify (model,X,Y)"
   ]
  },
  {
   "cell_type": "code",
   "execution_count": null,
   "id": "5cbd33e2",
   "metadata": {},
   "outputs": [],
   "source": [
    "from sklearn.ensemble import RandonforestClassifier\n",
    "model=RandomforestClassifier()\n",
    "classify (model,X,Y)"
   ]
  },
  {
   "cell_type": "code",
   "execution_count": null,
   "id": "f43954ad",
   "metadata": {},
   "outputs": [],
   "source": [
    "import lightgbm\n",
    "model=lightgbm.LGBMClassifier()\n",
    "Classify(model,X,Y)"
   ]
  },
  {
   "cell_type": "code",
   "execution_count": null,
   "id": "9a346ef6",
   "metadata": {},
   "outputs": [],
   "source": []
  },
  {
   "cell_type": "code",
   "execution_count": null,
   "id": "001f6eda",
   "metadata": {},
   "outputs": [],
   "source": []
  },
  {
   "cell_type": "markdown",
   "id": "f225a589",
   "metadata": {},
   "source": [
    "# Abalone Case Study\n",
    "Problem Statement:\n",
    "The age of abalone is determined by cutting the shell through the cone, staining it, and counting the number of rings through a microscope -- a boring and time-consuming task. Other measurements, which are easier to obtain, are used to predict the age. Further information, such as weather patterns and location (hence food availability) may be required to solve the problem.\n",
    "\n",
    "Attribute Information\n",
    "\n",
    "Given is the attribute name, attribute type, the measurement unit and a brief description. The number of rings is the value to predict. \n",
    "\n",
    "Name / Data Type / Measurement Unit / Description\n",
    "-----------------------------\n",
    "Sex / nominal / -- / M, F, and I (infant)\n",
    "Length / continuous / mm / Longest shell measurement\n",
    "Diameter / continuous / mm / perpendicular to length\n",
    "Height / continuous / mm / with meat in shell\n",
    "Whole weight / continuous / grams / whole abalone\n",
    "Shucked weight / continuous / grams / weight of meat\n",
    "Viscera weight / continuous / grams / gut weight (after bleeding)\n",
    "Shell weight / continuous / grams / after being dried\n",
    "Rings / integer / -- / +1.5 gives the age in years. \n",
    "\n",
    "You have to predict the rings of each abalone which will lead us to the age of that abalone. "
   ]
  },
  {
   "cell_type": "code",
   "execution_count": null,
   "id": "e2bc5cf6",
   "metadata": {},
   "outputs": [],
   "source": [
    "import pandas as pd\n",
    "import numpy as np\n",
    "import matplotlib.pyplot as plt\n",
    "import seaborn as sns"
   ]
  },
  {
   "cell_type": "code",
   "execution_count": null,
   "id": "c77160b2",
   "metadata": {},
   "outputs": [],
   "source": [
    "# reading the data\n",
    "\n",
    "data=pd.read_csv(r'C:\\\\Users\\\\win 7\\\\Desktop\\\\Datascience\\\\Abalone.csv')\n"
   ]
  },
  {
   "cell_type": "code",
   "execution_count": null,
   "id": "8be63d94",
   "metadata": {},
   "outputs": [],
   "source": [
    "# getting the shape\n",
    "data.shape\n"
   ]
  },
  {
   "cell_type": "code",
   "execution_count": null,
   "id": "1d2afef5",
   "metadata": {},
   "outputs": [],
   "source": [
    "# looking at the head of the data\n",
    "data.head()"
   ]
  },
  {
   "cell_type": "code",
   "execution_count": null,
   "id": "0b6692a1",
   "metadata": {},
   "outputs": [],
   "source": [
    "# describe the data\n",
    "data.describe()"
   ]
  },
  {
   "cell_type": "code",
   "execution_count": null,
   "id": "a72b8bc6",
   "metadata": {},
   "outputs": [],
   "source": [
    "# information of the data\n",
    "\n",
    "data.info()"
   ]
  },
  {
   "cell_type": "code",
   "execution_count": null,
   "id": "b0bebe7e",
   "metadata": {},
   "outputs": [],
   "source": [
    "# checking if there is any NULL data\n",
    "data.isnull().sum()"
   ]
  },
  {
   "cell_type": "code",
   "execution_count": null,
   "id": "65f383f1",
   "metadata": {},
   "outputs": [],
   "source": [
    "# pairplot\n",
    "sns.pairplot(data)"
   ]
  },
  {
   "cell_type": "code",
   "execution_count": null,
   "id": "20c39bd3",
   "metadata": {},
   "outputs": [],
   "source": [
    "# checking the columns of the data\n",
    "\n",
    "data.columns"
   ]
  },
  {
   "cell_type": "code",
   "execution_count": null,
   "id": "4c303eea",
   "metadata": {},
   "outputs": [],
   "source": [
    "# heatmap\n",
    "sns.heatmap(data[[ 'Length', 'Diameter', 'Height', 'Whole weight', 'Shucked weight',\n",
    "       'Viscera weight', 'Shell weight', 'Rings']])"
   ]
  },
  {
   "cell_type": "code",
   "execution_count": null,
   "id": "2913251e",
   "metadata": {},
   "outputs": [],
   "source": [
    "# checkig the values of sex\n",
    "data['Sex'].value_counts()"
   ]
  },
  {
   "cell_type": "code",
   "execution_count": null,
   "id": "a6dbae85",
   "metadata": {},
   "outputs": [],
   "source": [
    "# plotting a hue plot\n",
    "plt.rcParams['figure.figsize'] = (18, 8)\n",
    "sns.boxplot(data['Rings'], data['Length'], hue = data['Sex'], palette = 'pastel')\n",
    "plt.title('Rings vs length and sex', fontsize = 20)"
   ]
  },
  {
   "cell_type": "code",
   "execution_count": null,
   "id": "8b4fa67a",
   "metadata": {},
   "outputs": [],
   "source": [
    "# rings vs diameter and sex\n",
    "\n",
    "plt.rcParams['figure.figsize'] = (20, 8)\n",
    "sns.violinplot(data['Rings'], data['Diameter'], hue = data['Sex'], palette = 'Set1')\n",
    "plt.title('Rings vs diameter and sex', fontsize = 20)"
   ]
  },
  {
   "cell_type": "code",
   "execution_count": null,
   "id": "cd2a0f7f",
   "metadata": {},
   "outputs": [],
   "source": [
    "# rings vs height and sex\n",
    "\n",
    "plt.rcParams['figure.figsize'] = (18, 8)\n",
    "sns.boxenplot(data['Rings'], data['Height'], hue = data['Sex'], palette = 'Set2')\n",
    "plt.title('Rings vs height and sex', fontsize = 20)"
   ]
  },
  {
   "cell_type": "code",
   "execution_count": null,
   "id": "d5cdf39e",
   "metadata": {},
   "outputs": [],
   "source": [
    "# ring vs weight\n",
    "plt.rcParams['figure.figsize'] = (18, 10)\n",
    "sns.swarmplot(data['Rings'], data['Whole weight'])\n",
    "plt.title('Rings vs weight')"
   ]
  },
  {
   "cell_type": "code",
   "execution_count": null,
   "id": "cff98cd8",
   "metadata": {},
   "outputs": [],
   "source": [
    "# ring vs shucked weight\n",
    "plt.rcParams['figure.figsize'] = (18, 10)\n",
    "sns.swarmplot(data['Rings'], data['Shucked weight'], palette = 'dark')\n",
    "plt.title('Rings vs shucked weight')"
   ]
  },
  {
   "cell_type": "code",
   "execution_count": null,
   "id": "7405bd14",
   "metadata": {},
   "outputs": [],
   "source": [
    "# ring vs viscera weight\n",
    "plt.rcParams['figure.figsize'] = (18, 10)\n",
    "sns.stripplot(data['Rings'], data['Viscera weight'])\n",
    "plt.title('Rings vs Viscera Weight')"
   ]
  },
  {
   "cell_type": "code",
   "execution_count": null,
   "id": "25a2ec5d",
   "metadata": {},
   "outputs": [],
   "source": [
    "# ring vs shell weight\n",
    "plt.rcParams['figure.figsize'] = (18, 10)\n",
    "sns.regplot(data['Rings'], data['Shell weight'])\n",
    "plt.title('Rings vs Shell weight')"
   ]
  },
  {
   "cell_type": "code",
   "execution_count": null,
   "id": "7cddff28",
   "metadata": {},
   "outputs": [],
   "source": [
    "from math import pi\n",
    "\n",
    "# Set data\n",
    "df = pd.DataFrame({\n",
    "'group': [i for i in range(0, 4177)],\n",
    "'Sex': data['Sex'],\n",
    "'Length': data['Length'],\n",
    "'Diameter': data['Diameter'],\n",
    "'Whole weight':  data['Whole weight'],\n",
    "'Viscera weight': data['Viscera weight'],\n",
    "'Shell weight': data['Shell weight']\n",
    "})\n",
    " \n",
    "# number of variable\n",
    "categories=list(df)[1:]\n",
    "N = len(categories)\n",
    " \n",
    "# We are going to plot the first line of the data frame.\n",
    "# But we need to repeat the first value to close the circular graph:\n",
    "values = df.loc[0].drop('group').values.flatten().tolist()\n",
    "values += values[:1]\n",
    "values\n",
    " \n",
    "# What will be the angle of each axis in the plot? (we divide the plot / number of variable)\n",
    "angles = [n / float(N) * 2 * pi for n in range(N)]\n",
    "angles += angles[:1]\n",
    " \n",
    "# Initialise the spider plot\n",
    "ax = plt.subplot(111, polar=True)\n",
    " \n",
    "# Draw one axe per variable + add labels labels yet\n",
    "plt.xticks(angles[:-1], categories, color='grey', size=8)\n",
    " \n",
    "# Draw ylabels\n",
    "ax.set_rlabel_position(0)\n",
    "plt.yticks([10,20,30], [\"10\",\"20\",\"30\"], color=\"grey\", size=7)\n",
    "plt.ylim(0,40)\n",
    "\n",
    "# Plot data\n",
    "ax.plot(angles, values, linewidth=1, linestyle='solid')\n",
    "plt.title('Radar Chart for determing Importances of Features', fontsize = 20) \n",
    "# Fill area\n",
    "ax.fill(angles, values, 'red', alpha=0.1)"
   ]
  },
  {
   "cell_type": "code",
   "execution_count": null,
   "id": "1bb9fba9",
   "metadata": {},
   "outputs": [],
   "source": [
    "from sklearn.preprocessing import LabelEncoder\n",
    "\n",
    "le = LabelEncoder()\n",
    "data['Sex'] = le.fit_transform(data['Sex'])\n",
    "\n",
    "data['Sex'].value_counts()\n",
    "'''\n",
    "\n",
    "data = pd.get_dummies(data)"
   ]
  },
  {
   "cell_type": "code",
   "execution_count": null,
   "id": "384def6a",
   "metadata": {},
   "outputs": [],
   "source": [
    "data.head()"
   ]
  },
  {
   "cell_type": "code",
   "execution_count": null,
   "id": "c3765dd9",
   "metadata": {},
   "outputs": [],
   "source": [
    "# splitting the dependent and independent variables\n",
    "\n",
    "y = data['Rings']\n",
    "data = data.drop(['Rings'], axis = 1)\n",
    "x = data\n",
    "\n",
    "# getting the shapes\n",
    "print(\"Shape of x:\", x.shape)\n",
    "print(\"Shape of y:\", y.shape)"
   ]
  },
  {
   "cell_type": "code",
   "execution_count": null,
   "id": "9b41e0b3",
   "metadata": {},
   "outputs": [],
   "source": [
    "# train test split\n",
    "\n",
    "from sklearn.model_selection import train_test_split\n",
    "\n",
    "x_train, x_test, y_train, y_test = train_test_split(x, y, test_size = 0.2, random_state = 0)\n",
    "\n",
    "# getting the shapes\n",
    "print(\"Shape of x_train :\", x_train.shape)\n",
    "print(\"Shape of x_test :\", x_test.shape)\n",
    "print(\"Shape of y_train :\", y_train.shape)\n",
    "print(\"Shape of y_test :\", y_test.shape)"
   ]
  },
  {
   "cell_type": "code",
   "execution_count": null,
   "id": "501ddc80",
   "metadata": {},
   "outputs": [],
   "source": [
    "# MODELLING\n",
    "# RANDOM FOREST REGRESSOR\n",
    "\n",
    "from sklearn.ensemble import RandomForestClassifier\n",
    "from sklearn.metrics import mean_squared_error\n",
    "from sklearn.metrics import r2_score\n",
    "\n",
    "model = RandomForestClassifier()\n",
    "model.fit(x_train, y_train)\n",
    "y_pred = model.predict(x_test)\n",
    "\n",
    "# evaluation\n",
    "mse = mean_squared_error(y_test, y_pred)\n",
    "rmse = np.sqrt(mse)\n",
    "print(\"RMSE :\", rmse)\n",
    "\n",
    "# r2 score\n",
    "r2 = r2_score(y_test, y_pred)\n",
    "print(\"R2 Score :\", r2)"
   ]
  },
  {
   "cell_type": "code",
   "execution_count": null,
   "id": "219610f5",
   "metadata": {},
   "outputs": [],
   "source": [
    "!pip install eli5\n"
   ]
  },
  {
   "cell_type": "code",
   "execution_count": null,
   "id": "cd97a142",
   "metadata": {},
   "outputs": [],
   "source": [
    "# let's check the importance of each attributes\n",
    "\n",
    "\n",
    "#for purmutation importance\n",
    "import eli5 \n",
    "from eli5.sklearn import PermutationImportance\n",
    "\n",
    "perm = PermutationImportance(model, random_state = 0).fit(x_test, y_test)\n",
    "eli5.show_weights(perm, feature_names = x_test.columns.tolist())"
   ]
  },
  {
   "cell_type": "code",
   "execution_count": null,
   "id": "8701e49a",
   "metadata": {},
   "outputs": [],
   "source": []
  },
  {
   "cell_type": "code",
   "execution_count": null,
   "id": "a9019022",
   "metadata": {},
   "outputs": [],
   "source": []
  }
 ],
 "metadata": {
  "kernelspec": {
   "display_name": "Python 3 (ipykernel)",
   "language": "python",
   "name": "python3"
  },
  "language_info": {
   "codemirror_mode": {
    "name": "ipython",
    "version": 3
   },
   "file_extension": ".py",
   "mimetype": "text/x-python",
   "name": "python",
   "nbconvert_exporter": "python",
   "pygments_lexer": "ipython3",
   "version": "3.9.7"
  }
 },
 "nbformat": 4,
 "nbformat_minor": 5
}
